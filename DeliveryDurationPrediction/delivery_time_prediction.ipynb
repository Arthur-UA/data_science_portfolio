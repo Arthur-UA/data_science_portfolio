{
 "cells": [
  {
   "cell_type": "markdown",
   "metadata": {},
   "source": [
    "## Delivery Duration Prediction"
   ]
  },
  {
   "cell_type": "markdown",
   "metadata": {},
   "source": [
    "The main goal of this analysis is to predict the delivery order duration for the customers. In order to do so, I'll use the DoorDash dataset from the Strata Scratch website. The dataset contains 197428 observations and 16 variables. The variables are as follows:\n",
    "<table>\n",
    "    <tr>\n",
    "        <td><b>Feature</b></td>\n",
    "        <td><b>Description</b></td>\n",
    "    </tr>\n",
    "    <tr>\n",
    "        <td>market_id</td>\n",
    "        <td>A city/region in which DoorDash operates, e.g., Los Angeles, given in the data as an id</td>\n",
    "    </tr>\n",
    "    <tr>\n",
    "        <td>created_at</td>\n",
    "        <td>Timestamp in UTC when the order was submitted by the consumer to DoorDash. (Note this timestamp is in UTC, but in case you need it, the actual timezone of the region was US/Pacific)</td>\n",
    "    </tr>\n",
    "    <tr>\n",
    "        <td>actual_delivery_time</td>\n",
    "        <td>Timestamp in UTC when the order was delivered to the consumer</td>\n",
    "    </tr>\n",
    "    <tr>\n",
    "        <td>store_id</td>\n",
    "        <td>An id representing the restaurant the order was submitted for</td>\n",
    "    </tr>\n",
    "    <tr>\n",
    "        <td>store_primary_category</td>\n",
    "        <td>Cuisine category of the restaurant, e.g., italian, asian</td>\n",
    "    </tr>\n",
    "    <tr>\n",
    "        <td>order_protocol</td>\n",
    "        <td>A store can receive orders from DoorDash through many modes. This field represents an id denoting the protocol</td>\n",
    "    </tr>\n",
    "    <tr>\n",
    "        <td>total_items</td>\n",
    "        <td>Total number of items in the order</td>\n",
    "    </tr>\n",
    "    <tr>\n",
    "        <td>subtotal</td>\n",
    "        <td>Total value of the order submitted (in cents)</td>\n",
    "    </tr>\n",
    "    <tr>\n",
    "        <td>num_distinct_items</td>\n",
    "        <td>Number of distinct items included in the order</td>\n",
    "    </tr>\n",
    "    <tr>\n",
    "        <td>min_item_price</td>\n",
    "        <td>Price of the item with the least cost in the order (in cents)</td>\n",
    "    </tr>\n",
    "    <tr>\n",
    "        <td>max_item_price</td>\n",
    "        <td>Price of the item with the highest cost in the order (in cents)</td>\n",
    "    </tr>\n",
    "    <tr>\n",
    "        <td>total_onshift_dashers</td>\n",
    "        <td>Number of available dashers who are within 10 miles of the store at the time of order creation</td>\n",
    "    </tr>\n",
    "    <tr>\n",
    "        <td>total_busy_dashers</td>\n",
    "        <td>Subset of above total_onshift_dashers who are currently working on an order</td>\n",
    "    </tr>\n",
    "    <tr>\n",
    "        <td>total_outstanding_orders</td>\n",
    "        <td>Number of orders within 10 miles of this order that are currently being processed</td>\n",
    "    </tr>\n",
    "    <tr>\n",
    "        <td>estimated_order_place_duration</td>\n",
    "        <td>Estimated time for the restaurant to receive the order from DoorDash (in seconds)</td>\n",
    "    </tr>\n",
    "    <tr>\n",
    "        <td>estimated_store_to_consumer_driving_duration</td>\n",
    "        <td>Estimated travel time between store and consumer (in seconds)</td>\n",
    "    </tr>\n",
    "</table>"
   ]
  },
  {
   "cell_type": "markdown",
   "metadata": {},
   "source": [
    "### Importing the libraries"
   ]
  },
  {
   "cell_type": "code",
   "execution_count": 1,
   "metadata": {},
   "outputs": [],
   "source": [
    "import pandas as pd\n",
    "import numpy as np\n",
    "import matplotlib.pyplot as plt\n",
    "import seaborn as sns"
   ]
  },
  {
   "cell_type": "markdown",
   "metadata": {},
   "source": [
    "### Data overview"
   ]
  },
  {
   "cell_type": "code",
   "execution_count": 2,
   "metadata": {},
   "outputs": [
    {
     "data": {
      "text/html": [
       "<div>\n",
       "<style scoped>\n",
       "    .dataframe tbody tr th:only-of-type {\n",
       "        vertical-align: middle;\n",
       "    }\n",
       "\n",
       "    .dataframe tbody tr th {\n",
       "        vertical-align: top;\n",
       "    }\n",
       "\n",
       "    .dataframe thead th {\n",
       "        text-align: right;\n",
       "    }\n",
       "</style>\n",
       "<table border=\"1\" class=\"dataframe\">\n",
       "  <thead>\n",
       "    <tr style=\"text-align: right;\">\n",
       "      <th></th>\n",
       "      <th>market_id</th>\n",
       "      <th>created_at</th>\n",
       "      <th>actual_delivery_time</th>\n",
       "      <th>store_id</th>\n",
       "      <th>store_primary_category</th>\n",
       "      <th>order_protocol</th>\n",
       "      <th>total_items</th>\n",
       "      <th>subtotal</th>\n",
       "      <th>num_distinct_items</th>\n",
       "      <th>min_item_price</th>\n",
       "      <th>max_item_price</th>\n",
       "      <th>total_onshift_dashers</th>\n",
       "      <th>total_busy_dashers</th>\n",
       "      <th>total_outstanding_orders</th>\n",
       "      <th>estimated_order_place_duration</th>\n",
       "      <th>estimated_store_to_consumer_driving_duration</th>\n",
       "    </tr>\n",
       "  </thead>\n",
       "  <tbody>\n",
       "    <tr>\n",
       "      <th>0</th>\n",
       "      <td>1.0</td>\n",
       "      <td>2015-02-06 22:24:17</td>\n",
       "      <td>2015-02-06 23:27:16</td>\n",
       "      <td>1845</td>\n",
       "      <td>american</td>\n",
       "      <td>1.0</td>\n",
       "      <td>4</td>\n",
       "      <td>3441</td>\n",
       "      <td>4</td>\n",
       "      <td>557</td>\n",
       "      <td>1239</td>\n",
       "      <td>33.0</td>\n",
       "      <td>14.0</td>\n",
       "      <td>21.0</td>\n",
       "      <td>446</td>\n",
       "      <td>861.0</td>\n",
       "    </tr>\n",
       "    <tr>\n",
       "      <th>1</th>\n",
       "      <td>2.0</td>\n",
       "      <td>2015-02-10 21:49:25</td>\n",
       "      <td>2015-02-10 22:56:29</td>\n",
       "      <td>5477</td>\n",
       "      <td>mexican</td>\n",
       "      <td>2.0</td>\n",
       "      <td>1</td>\n",
       "      <td>1900</td>\n",
       "      <td>1</td>\n",
       "      <td>1400</td>\n",
       "      <td>1400</td>\n",
       "      <td>1.0</td>\n",
       "      <td>2.0</td>\n",
       "      <td>2.0</td>\n",
       "      <td>446</td>\n",
       "      <td>690.0</td>\n",
       "    </tr>\n",
       "    <tr>\n",
       "      <th>2</th>\n",
       "      <td>3.0</td>\n",
       "      <td>2015-01-22 20:39:28</td>\n",
       "      <td>2015-01-22 21:09:09</td>\n",
       "      <td>5477</td>\n",
       "      <td>NaN</td>\n",
       "      <td>1.0</td>\n",
       "      <td>1</td>\n",
       "      <td>1900</td>\n",
       "      <td>1</td>\n",
       "      <td>1900</td>\n",
       "      <td>1900</td>\n",
       "      <td>1.0</td>\n",
       "      <td>0.0</td>\n",
       "      <td>0.0</td>\n",
       "      <td>446</td>\n",
       "      <td>690.0</td>\n",
       "    </tr>\n",
       "    <tr>\n",
       "      <th>3</th>\n",
       "      <td>3.0</td>\n",
       "      <td>2015-02-03 21:21:45</td>\n",
       "      <td>2015-02-03 22:13:00</td>\n",
       "      <td>5477</td>\n",
       "      <td>NaN</td>\n",
       "      <td>1.0</td>\n",
       "      <td>6</td>\n",
       "      <td>6900</td>\n",
       "      <td>5</td>\n",
       "      <td>600</td>\n",
       "      <td>1800</td>\n",
       "      <td>1.0</td>\n",
       "      <td>1.0</td>\n",
       "      <td>2.0</td>\n",
       "      <td>446</td>\n",
       "      <td>289.0</td>\n",
       "    </tr>\n",
       "    <tr>\n",
       "      <th>4</th>\n",
       "      <td>3.0</td>\n",
       "      <td>2015-02-15 02:40:36</td>\n",
       "      <td>2015-02-15 03:20:26</td>\n",
       "      <td>5477</td>\n",
       "      <td>NaN</td>\n",
       "      <td>1.0</td>\n",
       "      <td>3</td>\n",
       "      <td>3900</td>\n",
       "      <td>3</td>\n",
       "      <td>1100</td>\n",
       "      <td>1600</td>\n",
       "      <td>6.0</td>\n",
       "      <td>6.0</td>\n",
       "      <td>9.0</td>\n",
       "      <td>446</td>\n",
       "      <td>650.0</td>\n",
       "    </tr>\n",
       "  </tbody>\n",
       "</table>\n",
       "</div>"
      ],
      "text/plain": [
       "   market_id           created_at actual_delivery_time  store_id  \\\n",
       "0        1.0  2015-02-06 22:24:17  2015-02-06 23:27:16      1845   \n",
       "1        2.0  2015-02-10 21:49:25  2015-02-10 22:56:29      5477   \n",
       "2        3.0  2015-01-22 20:39:28  2015-01-22 21:09:09      5477   \n",
       "3        3.0  2015-02-03 21:21:45  2015-02-03 22:13:00      5477   \n",
       "4        3.0  2015-02-15 02:40:36  2015-02-15 03:20:26      5477   \n",
       "\n",
       "  store_primary_category  order_protocol  total_items  subtotal  \\\n",
       "0               american             1.0            4      3441   \n",
       "1                mexican             2.0            1      1900   \n",
       "2                    NaN             1.0            1      1900   \n",
       "3                    NaN             1.0            6      6900   \n",
       "4                    NaN             1.0            3      3900   \n",
       "\n",
       "   num_distinct_items  min_item_price  max_item_price  total_onshift_dashers  \\\n",
       "0                   4             557            1239                   33.0   \n",
       "1                   1            1400            1400                    1.0   \n",
       "2                   1            1900            1900                    1.0   \n",
       "3                   5             600            1800                    1.0   \n",
       "4                   3            1100            1600                    6.0   \n",
       "\n",
       "   total_busy_dashers  total_outstanding_orders  \\\n",
       "0                14.0                      21.0   \n",
       "1                 2.0                       2.0   \n",
       "2                 0.0                       0.0   \n",
       "3                 1.0                       2.0   \n",
       "4                 6.0                       9.0   \n",
       "\n",
       "   estimated_order_place_duration  \\\n",
       "0                             446   \n",
       "1                             446   \n",
       "2                             446   \n",
       "3                             446   \n",
       "4                             446   \n",
       "\n",
       "   estimated_store_to_consumer_driving_duration  \n",
       "0                                         861.0  \n",
       "1                                         690.0  \n",
       "2                                         690.0  \n",
       "3                                         289.0  \n",
       "4                                         650.0  "
      ]
     },
     "execution_count": 2,
     "metadata": {},
     "output_type": "execute_result"
    }
   ],
   "source": [
    "data = pd.read_csv('data/historical_data.csv')\n",
    "data.head()"
   ]
  },
  {
   "cell_type": "code",
   "execution_count": 3,
   "metadata": {},
   "outputs": [
    {
     "name": "stdout",
     "output_type": "stream",
     "text": [
      "<class 'pandas.core.frame.DataFrame'>\n",
      "RangeIndex: 197428 entries, 0 to 197427\n",
      "Data columns (total 16 columns):\n",
      " #   Column                                        Non-Null Count   Dtype  \n",
      "---  ------                                        --------------   -----  \n",
      " 0   market_id                                     196441 non-null  float64\n",
      " 1   created_at                                    197428 non-null  object \n",
      " 2   actual_delivery_time                          197421 non-null  object \n",
      " 3   store_id                                      197428 non-null  int64  \n",
      " 4   store_primary_category                        192668 non-null  object \n",
      " 5   order_protocol                                196433 non-null  float64\n",
      " 6   total_items                                   197428 non-null  int64  \n",
      " 7   subtotal                                      197428 non-null  int64  \n",
      " 8   num_distinct_items                            197428 non-null  int64  \n",
      " 9   min_item_price                                197428 non-null  int64  \n",
      " 10  max_item_price                                197428 non-null  int64  \n",
      " 11  total_onshift_dashers                         181166 non-null  float64\n",
      " 12  total_busy_dashers                            181166 non-null  float64\n",
      " 13  total_outstanding_orders                      181166 non-null  float64\n",
      " 14  estimated_order_place_duration                197428 non-null  int64  \n",
      " 15  estimated_store_to_consumer_driving_duration  196902 non-null  float64\n",
      "dtypes: float64(6), int64(7), object(3)\n",
      "memory usage: 24.1+ MB\n"
     ]
    }
   ],
   "source": [
    "data.info()"
   ]
  },
  {
   "cell_type": "markdown",
   "metadata": {},
   "source": [
    "By looking at this information we can conclude that the data has missing values which should be filled"
   ]
  },
  {
   "cell_type": "markdown",
   "metadata": {},
   "source": [
    "### Handling missing values"
   ]
  },
  {
   "cell_type": "code",
   "execution_count": 4,
   "metadata": {},
   "outputs": [
    {
     "name": "stdout",
     "output_type": "stream",
     "text": [
      "<class 'pandas.core.frame.DataFrame'>\n",
      "Index: 197421 entries, 0 to 197427\n",
      "Data columns (total 16 columns):\n",
      " #   Column                                        Non-Null Count   Dtype  \n",
      "---  ------                                        --------------   -----  \n",
      " 0   market_id                                     197421 non-null  float64\n",
      " 1   created_at                                    197421 non-null  object \n",
      " 2   actual_delivery_time                          197421 non-null  object \n",
      " 3   store_id                                      197421 non-null  int64  \n",
      " 4   store_primary_category                        197421 non-null  object \n",
      " 5   order_protocol                                197421 non-null  float64\n",
      " 6   total_items                                   197421 non-null  int64  \n",
      " 7   subtotal                                      197421 non-null  int64  \n",
      " 8   num_distinct_items                            197421 non-null  int64  \n",
      " 9   min_item_price                                197421 non-null  int64  \n",
      " 10  max_item_price                                197421 non-null  int64  \n",
      " 11  total_onshift_dashers                         197421 non-null  float64\n",
      " 12  total_busy_dashers                            197421 non-null  float64\n",
      " 13  total_outstanding_orders                      197421 non-null  float64\n",
      " 14  estimated_order_place_duration                197421 non-null  int64  \n",
      " 15  estimated_store_to_consumer_driving_duration  197421 non-null  float64\n",
      "dtypes: float64(6), int64(7), object(3)\n",
      "memory usage: 25.6+ MB\n"
     ]
    }
   ],
   "source": [
    "data.dropna(subset=['actual_delivery_time'], axis=0, inplace=True)\n",
    "data['estimated_store_to_consumer_driving_duration'] = data['estimated_store_to_consumer_driving_duration'].fillna(data['estimated_store_to_consumer_driving_duration'].median())\n",
    "data['market_id'] = data['market_id'].fillna(data['market_id'].mode()[0])\n",
    "data['store_primary_category'] = data['store_primary_category'].replace(np.nan, data['store_primary_category'].mode()[0])\n",
    "data['order_protocol'] = data['order_protocol'].replace(np.nan, data['order_protocol'].mode()[0])\n",
    "data['total_onshift_dashers'] = data['total_onshift_dashers'].replace(np.nan, data['total_onshift_dashers'].mode()[0])\n",
    "data['total_busy_dashers'] = data['total_busy_dashers'].replace(np.nan, data['total_busy_dashers'].mode()[0])\n",
    "data['total_outstanding_orders'] = data['total_outstanding_orders'].replace(np.nan, data['total_outstanding_orders'].mode()[0])\n",
    "data.info()"
   ]
  },
  {
   "cell_type": "markdown",
   "metadata": {},
   "source": [
    "### Converting data to the correct types and creating a target variable"
   ]
  },
  {
   "cell_type": "code",
   "execution_count": 5,
   "metadata": {},
   "outputs": [],
   "source": [
    "data[['created_at', 'actual_delivery_time']] = data[['created_at', 'actual_delivery_time']].apply(pd.to_datetime)"
   ]
  },
  {
   "cell_type": "code",
   "execution_count": 7,
   "metadata": {},
   "outputs": [
    {
     "data": {
      "text/plain": [
       "0         3779\n",
       "1         4024\n",
       "2         1781\n",
       "3         3075\n",
       "4         2390\n",
       "          ... \n",
       "197423    3907\n",
       "197424    3383\n",
       "197425    3008\n",
       "197426    3907\n",
       "197427    2228\n",
       "Name: delivery_time, Length: 197421, dtype: int32"
      ]
     },
     "execution_count": 7,
     "metadata": {},
     "output_type": "execute_result"
    }
   ],
   "source": [
    "data['delivery_time'] = (data.actual_delivery_time - data.created_at).dt.seconds\n",
    "data.delivery_time"
   ]
  },
  {
   "cell_type": "markdown",
   "metadata": {},
   "source": [
    "### Exploratory data analysis"
   ]
  },
  {
   "cell_type": "code",
   "execution_count": 13,
   "metadata": {},
   "outputs": [
    {
     "data": {
      "image/png": "[encoded data removed]",
      "text/plain": [
       "<Figure size 1600x1500 with 12 Axes>"
      ]
     },
     "metadata": {},
     "output_type": "display_data"
    }
   ],
   "source": [
    "plt.figure(figsize=(16,15))\n",
    "for i, f in enumerate(data.columns[5:], start=1):\n",
    "    plt.subplot(3, 4, i)\n",
    "    sns.histplot(data[f], kde=True)\n",
    "    plt.title(f, fontsize=7)"
   ]
  },
  {
   "cell_type": "markdown",
   "metadata": {},
   "source": [
    "From these plots we can clearly see some number of outliers in the data."
   ]
  },
  {
   "cell_type": "code",
   "execution_count": 14,
   "metadata": {},
   "outputs": [
    {
     "data": {
      "text/html": [
       "<div>\n",
       "<style scoped>\n",
       "    .dataframe tbody tr th:only-of-type {\n",
       "        vertical-align: middle;\n",
       "    }\n",
       "\n",
       "    .dataframe tbody tr th {\n",
       "        vertical-align: top;\n",
       "    }\n",
       "\n",
       "    .dataframe thead th {\n",
       "        text-align: right;\n",
       "    }\n",
       "</style>\n",
       "<table border=\"1\" class=\"dataframe\">\n",
       "  <thead>\n",
       "    <tr style=\"text-align: right;\">\n",
       "      <th></th>\n",
       "      <th>market_id</th>\n",
       "      <th>created_at</th>\n",
       "      <th>actual_delivery_time</th>\n",
       "      <th>store_id</th>\n",
       "      <th>order_protocol</th>\n",
       "      <th>total_items</th>\n",
       "      <th>subtotal</th>\n",
       "      <th>num_distinct_items</th>\n",
       "      <th>min_item_price</th>\n",
       "      <th>max_item_price</th>\n",
       "      <th>total_onshift_dashers</th>\n",
       "      <th>total_busy_dashers</th>\n",
       "      <th>total_outstanding_orders</th>\n",
       "      <th>estimated_order_place_duration</th>\n",
       "      <th>estimated_store_to_consumer_driving_duration</th>\n",
       "      <th>delivery_time</th>\n",
       "    </tr>\n",
       "  </thead>\n",
       "  <tbody>\n",
       "    <tr>\n",
       "      <th>count</th>\n",
       "      <td>197421.000000</td>\n",
       "      <td>197421</td>\n",
       "      <td>197421</td>\n",
       "      <td>197421.000000</td>\n",
       "      <td>197421.000000</td>\n",
       "      <td>197421.000000</td>\n",
       "      <td>197421.000000</td>\n",
       "      <td>197421.000000</td>\n",
       "      <td>197421.000000</td>\n",
       "      <td>197421.000000</td>\n",
       "      <td>197421.000000</td>\n",
       "      <td>197421.000000</td>\n",
       "      <td>197421.000000</td>\n",
       "      <td>197421.000000</td>\n",
       "      <td>197421.000000</td>\n",
       "      <td>197421.000000</td>\n",
       "    </tr>\n",
       "    <tr>\n",
       "      <th>mean</th>\n",
       "      <td>2.973807</td>\n",
       "      <td>2015-02-04 21:59:55.091540480</td>\n",
       "      <td>2015-02-04 22:48:23.348914176</td>\n",
       "      <td>3530.581397</td>\n",
       "      <td>2.872871</td>\n",
       "      <td>3.196367</td>\n",
       "      <td>2682.326379</td>\n",
       "      <td>2.670780</td>\n",
       "      <td>686.224596</td>\n",
       "      <td>1159.590444</td>\n",
       "      <td>41.116026</td>\n",
       "      <td>38.300672</td>\n",
       "      <td>53.266431</td>\n",
       "      <td>308.560244</td>\n",
       "      <td>545.353473</td>\n",
       "      <td>2862.304816</td>\n",
       "    </tr>\n",
       "    <tr>\n",
       "      <th>min</th>\n",
       "      <td>1.000000</td>\n",
       "      <td>2014-10-19 05:24:15</td>\n",
       "      <td>2015-01-21 15:58:11</td>\n",
       "      <td>1.000000</td>\n",
       "      <td>1.000000</td>\n",
       "      <td>1.000000</td>\n",
       "      <td>0.000000</td>\n",
       "      <td>1.000000</td>\n",
       "      <td>-86.000000</td>\n",
       "      <td>0.000000</td>\n",
       "      <td>-4.000000</td>\n",
       "      <td>-5.000000</td>\n",
       "      <td>-6.000000</td>\n",
       "      <td>0.000000</td>\n",
       "      <td>0.000000</td>\n",
       "      <td>101.000000</td>\n",
       "    </tr>\n",
       "    <tr>\n",
       "      <th>25%</th>\n",
       "      <td>2.000000</td>\n",
       "      <td>2015-01-29 02:32:38</td>\n",
       "      <td>2015-01-29 03:22:29</td>\n",
       "      <td>1686.000000</td>\n",
       "      <td>1.000000</td>\n",
       "      <td>2.000000</td>\n",
       "      <td>1400.000000</td>\n",
       "      <td>1.000000</td>\n",
       "      <td>299.000000</td>\n",
       "      <td>800.000000</td>\n",
       "      <td>13.000000</td>\n",
       "      <td>11.000000</td>\n",
       "      <td>12.000000</td>\n",
       "      <td>251.000000</td>\n",
       "      <td>383.000000</td>\n",
       "      <td>2104.000000</td>\n",
       "    </tr>\n",
       "    <tr>\n",
       "      <th>50%</th>\n",
       "      <td>3.000000</td>\n",
       "      <td>2015-02-05 03:29:06</td>\n",
       "      <td>2015-02-05 04:40:41</td>\n",
       "      <td>3592.000000</td>\n",
       "      <td>3.000000</td>\n",
       "      <td>3.000000</td>\n",
       "      <td>2200.000000</td>\n",
       "      <td>2.000000</td>\n",
       "      <td>595.000000</td>\n",
       "      <td>1095.000000</td>\n",
       "      <td>32.000000</td>\n",
       "      <td>30.000000</td>\n",
       "      <td>35.000000</td>\n",
       "      <td>251.000000</td>\n",
       "      <td>544.000000</td>\n",
       "      <td>2660.000000</td>\n",
       "    </tr>\n",
       "    <tr>\n",
       "      <th>75%</th>\n",
       "      <td>4.000000</td>\n",
       "      <td>2015-02-12 01:39:14</td>\n",
       "      <td>2015-02-12 02:25:26</td>\n",
       "      <td>5299.000000</td>\n",
       "      <td>4.000000</td>\n",
       "      <td>4.000000</td>\n",
       "      <td>3395.000000</td>\n",
       "      <td>3.000000</td>\n",
       "      <td>949.000000</td>\n",
       "      <td>1395.000000</td>\n",
       "      <td>62.000000</td>\n",
       "      <td>59.000000</td>\n",
       "      <td>80.000000</td>\n",
       "      <td>446.000000</td>\n",
       "      <td>702.000000</td>\n",
       "      <td>3381.000000</td>\n",
       "    </tr>\n",
       "    <tr>\n",
       "      <th>max</th>\n",
       "      <td>6.000000</td>\n",
       "      <td>2015-02-18 06:00:44</td>\n",
       "      <td>2015-02-19 22:45:31</td>\n",
       "      <td>6987.000000</td>\n",
       "      <td>7.000000</td>\n",
       "      <td>411.000000</td>\n",
       "      <td>27100.000000</td>\n",
       "      <td>20.000000</td>\n",
       "      <td>14700.000000</td>\n",
       "      <td>14700.000000</td>\n",
       "      <td>171.000000</td>\n",
       "      <td>154.000000</td>\n",
       "      <td>285.000000</td>\n",
       "      <td>2715.000000</td>\n",
       "      <td>2088.000000</td>\n",
       "      <td>73282.000000</td>\n",
       "    </tr>\n",
       "    <tr>\n",
       "      <th>std</th>\n",
       "      <td>1.522628</td>\n",
       "      <td>NaN</td>\n",
       "      <td>NaN</td>\n",
       "      <td>2053.493429</td>\n",
       "      <td>1.505892</td>\n",
       "      <td>2.666552</td>\n",
       "      <td>1823.106256</td>\n",
       "      <td>1.630261</td>\n",
       "      <td>522.044061</td>\n",
       "      <td>558.416236</td>\n",
       "      <td>35.293070</td>\n",
       "      <td>32.861493</td>\n",
       "      <td>52.908906</td>\n",
       "      <td>90.139725</td>\n",
       "      <td>219.061573</td>\n",
       "      <td>1180.916229</td>\n",
       "    </tr>\n",
       "  </tbody>\n",
       "</table>\n",
       "</div>"
      ],
      "text/plain": [
       "           market_id                     created_at  \\\n",
       "count  197421.000000                         197421   \n",
       "mean        2.973807  2015-02-04 21:59:55.091540480   \n",
       "min         1.000000            2014-10-19 05:24:15   \n",
       "25%         2.000000            2015-01-29 02:32:38   \n",
       "50%         3.000000            2015-02-05 03:29:06   \n",
       "75%         4.000000            2015-02-12 01:39:14   \n",
       "max         6.000000            2015-02-18 06:00:44   \n",
       "std         1.522628                            NaN   \n",
       "\n",
       "                actual_delivery_time       store_id  order_protocol  \\\n",
       "count                         197421  197421.000000   197421.000000   \n",
       "mean   2015-02-04 22:48:23.348914176    3530.581397        2.872871   \n",
       "min              2015-01-21 15:58:11       1.000000        1.000000   \n",
       "25%              2015-01-29 03:22:29    1686.000000        1.000000   \n",
       "50%              2015-02-05 04:40:41    3592.000000        3.000000   \n",
       "75%              2015-02-12 02:25:26    5299.000000        4.000000   \n",
       "max              2015-02-19 22:45:31    6987.000000        7.000000   \n",
       "std                              NaN    2053.493429        1.505892   \n",
       "\n",
       "         total_items       subtotal  num_distinct_items  min_item_price  \\\n",
       "count  197421.000000  197421.000000       197421.000000   197421.000000   \n",
       "mean        3.196367    2682.326379            2.670780      686.224596   \n",
       "min         1.000000       0.000000            1.000000      -86.000000   \n",
       "25%         2.000000    1400.000000            1.000000      299.000000   \n",
       "50%         3.000000    2200.000000            2.000000      595.000000   \n",
       "75%         4.000000    3395.000000            3.000000      949.000000   \n",
       "max       411.000000   27100.000000           20.000000    14700.000000   \n",
       "std         2.666552    1823.106256            1.630261      522.044061   \n",
       "\n",
       "       max_item_price  total_onshift_dashers  total_busy_dashers  \\\n",
       "count   197421.000000          197421.000000       197421.000000   \n",
       "mean      1159.590444              41.116026           38.300672   \n",
       "min          0.000000              -4.000000           -5.000000   \n",
       "25%        800.000000              13.000000           11.000000   \n",
       "50%       1095.000000              32.000000           30.000000   \n",
       "75%       1395.000000              62.000000           59.000000   \n",
       "max      14700.000000             171.000000          154.000000   \n",
       "std        558.416236              35.293070           32.861493   \n",
       "\n",
       "       total_outstanding_orders  estimated_order_place_duration  \\\n",
       "count             197421.000000                   197421.000000   \n",
       "mean                  53.266431                      308.560244   \n",
       "min                   -6.000000                        0.000000   \n",
       "25%                   12.000000                      251.000000   \n",
       "50%                   35.000000                      251.000000   \n",
       "75%                   80.000000                      446.000000   \n",
       "max                  285.000000                     2715.000000   \n",
       "std                   52.908906                       90.139725   \n",
       "\n",
       "       estimated_store_to_consumer_driving_duration  delivery_time  \n",
       "count                                 197421.000000  197421.000000  \n",
       "mean                                     545.353473    2862.304816  \n",
       "min                                        0.000000     101.000000  \n",
       "25%                                      383.000000    2104.000000  \n",
       "50%                                      544.000000    2660.000000  \n",
       "75%                                      702.000000    3381.000000  \n",
       "max                                     2088.000000   73282.000000  \n",
       "std                                      219.061573    1180.916229  "
      ]
     },
     "execution_count": 14,
     "metadata": {},
     "output_type": "execute_result"
    }
   ],
   "source": [
    "data.describe()"
   ]
  },
  {
   "cell_type": "markdown",
   "metadata": {},
   "source": [
    "The statistical description table shows that the data definitely has outliers in the `total_item`, `subtotal`, `num_distinct_items`, `(min/max)_item_price`, `total_onshift_dashers` and the rest of the columns"
   ]
  },
  {
   "cell_type": "code",
   "execution_count": 21,
   "metadata": {},
   "outputs": [
    {
     "data": {
      "image/png": "[encoded data removed]",
      "text/plain": [
       "<Figure size 640x480 with 1 Axes>"
      ]
     },
     "metadata": {},
     "output_type": "display_data"
    }
   ],
   "source": [
    "plt.title('Order protocol usage')\n",
    "plt.pie(data.order_protocol.value_counts(), labels=list(range(1, 8)), autopct='%1.1f%%')\n",
    "plt.show()"
   ]
  },
  {
   "cell_type": "code",
   "execution_count": 28,
   "metadata": {},
   "outputs": [
    {
     "data": {
      "text/plain": [
       "<Axes: xlabel='order_protocol', ylabel='delivery_time'>"
      ]
     },
     "execution_count": 28,
     "metadata": {},
     "output_type": "execute_result"
    },
    {
     "data": {
      "image/png": "[encoded data removed]",
      "text/plain": [
       "<Figure size 640x480 with 1 Axes>"
      ]
     },
     "metadata": {},
     "output_type": "display_data"
    }
   ],
   "source": [
    "sns.barplot(x=data.groupby('order_protocol').delivery_time.sum().index, y=data.groupby('order_protocol').delivery_time.sum())"
   ]
  },
  {
   "cell_type": "markdown",
   "metadata": {},
   "source": [
    "From the graphs above I can say that the order protocols 1, 2 and 3 are the most popular among the customers and 1 and 3 have the long total delivery duration. Protocols 6 and 7 are almost never used."
   ]
  },
  {
   "cell_type": "code",
   "execution_count": 34,
   "metadata": {},
   "outputs": [
    {
     "data": {
      "text/plain": [
       "<Axes: title={'center': 'Min vs Max item prices in the orders'}>"
      ]
     },
     "execution_count": 34,
     "metadata": {},
     "output_type": "execute_result"
    },
    {
     "data": {
      "image/png": "[encoded data removed]",
      "text/plain": [
       "<Figure size 640x480 with 1 Axes>"
      ]
     },
     "metadata": {},
     "output_type": "display_data"
    }
   ],
   "source": [
    "plt.title('Min vs Max item prices in the orders')\n",
    "sns.boxplot(data=[data['min_item_price'], data['max_item_price']])"
   ]
  },
  {
   "cell_type": "code",
   "execution_count": 41,
   "metadata": {},
   "outputs": [
    {
     "data": {
      "text/plain": [
       "<Axes: title={'center': 'Total vs busy dashers distributions'}>"
      ]
     },
     "execution_count": 41,
     "metadata": {},
     "output_type": "execute_result"
    },
    {
     "data": {
      "image/png": "[encoded data removed]",
      "text/plain": [
       "<Figure size 640x480 with 1 Axes>"
      ]
     },
     "metadata": {},
     "output_type": "display_data"
    }
   ],
   "source": [
    "plt.title('Total vs busy dashers distributions')\n",
    "sns.boxplot(data=[data['total_onshift_dashers'], data['total_busy_dashers']])"
   ]
  },
  {
   "cell_type": "code",
   "execution_count": 38,
   "metadata": {},
   "outputs": [
    {
     "name": "stderr",
     "output_type": "stream",
     "text": [
      "C:\\Users\\Артур\\AppData\\Local\\Temp\\ipykernel_2580\\4037216932.py:2: UserWarning: \n",
      "\n",
      "`distplot` is a deprecated function and will be removed in seaborn v0.14.0.\n",
      "\n",
      "Please adapt your code to use either `displot` (a figure-level function with\n",
      "similar flexibility) or `kdeplot` (an axes-level function for kernel density plots).\n",
      "\n",
      "For a guide to updating your code to use the new functions, please see\n",
      "https://gist.github.com/mwaskom/de44147ed2974457ad6372750bbe5751\n",
      "\n",
      "  ax = sns.distplot(estimated_time_to_consumer, hist=False, color='b', label='Estimated duration')\n",
      "C:\\Users\\Артур\\AppData\\Local\\Temp\\ipykernel_2580\\4037216932.py:3: UserWarning: \n",
      "\n",
      "`distplot` is a deprecated function and will be removed in seaborn v0.14.0.\n",
      "\n",
      "Please adapt your code to use either `displot` (a figure-level function with\n",
      "similar flexibility) or `kdeplot` (an axes-level function for kernel density plots).\n",
      "\n",
      "For a guide to updating your code to use the new functions, please see\n",
      "https://gist.github.com/mwaskom/de44147ed2974457ad6372750bbe5751\n",
      "\n",
      "  sns.distplot(data['delivery_time'], hist=False, color='r', label='Actual value', ax=ax)\n"
     ]
    },
    {
     "data": {
      "text/plain": [
       "<Axes: xlabel='delivery_time', ylabel='Density'>"
      ]
     },
     "execution_count": 38,
     "metadata": {},
     "output_type": "execute_result"
    },
    {
     "data": {
      "image/png": "[encoded data removed]",
      "text/plain": [
       "<Figure size 640x480 with 1 Axes>"
      ]
     },
     "metadata": {},
     "output_type": "display_data"
    }
   ],
   "source": [
    "estimated_time_to_consumer = data['estimated_order_place_duration'] + data['estimated_store_to_consumer_driving_duration']\n",
    "ax = sns.distplot(estimated_time_to_consumer, hist=False, color='b', label='Estimated duration')\n",
    "sns.distplot(data['delivery_time'], hist=False, color='r', label='Actual value', ax=ax)"
   ]
  },
  {
   "cell_type": "markdown",
   "metadata": {},
   "source": [
    "Standart company's estimators perform badly because they don't count the time spent on the order preparation. This is why this task requires you to build a model on the historical data."
   ]
  },
  {
   "cell_type": "markdown",
   "metadata": {},
   "source": [
    "#### New feature extraction"
   ]
  },
  {
   "cell_type": "code",
   "execution_count": 42,
   "metadata": {},
   "outputs": [
    {
     "data": {
      "text/html": [
       "<div>\n",
       "<style scoped>\n",
       "    .dataframe tbody tr th:only-of-type {\n",
       "        vertical-align: middle;\n",
       "    }\n",
       "\n",
       "    .dataframe tbody tr th {\n",
       "        vertical-align: top;\n",
       "    }\n",
       "\n",
       "    .dataframe thead th {\n",
       "        text-align: right;\n",
       "    }\n",
       "</style>\n",
       "<table border=\"1\" class=\"dataframe\">\n",
       "  <thead>\n",
       "    <tr style=\"text-align: right;\">\n",
       "      <th></th>\n",
       "      <th>market_id</th>\n",
       "      <th>created_at</th>\n",
       "      <th>actual_delivery_time</th>\n",
       "      <th>store_id</th>\n",
       "      <th>store_primary_category</th>\n",
       "      <th>order_protocol</th>\n",
       "      <th>total_items</th>\n",
       "      <th>subtotal</th>\n",
       "      <th>num_distinct_items</th>\n",
       "      <th>min_item_price</th>\n",
       "      <th>max_item_price</th>\n",
       "      <th>total_onshift_dashers</th>\n",
       "      <th>total_busy_dashers</th>\n",
       "      <th>total_outstanding_orders</th>\n",
       "      <th>estimated_order_place_duration</th>\n",
       "      <th>estimated_store_to_consumer_driving_duration</th>\n",
       "      <th>delivery_time</th>\n",
       "      <th>order_creation_time</th>\n",
       "    </tr>\n",
       "  </thead>\n",
       "  <tbody>\n",
       "    <tr>\n",
       "      <th>0</th>\n",
       "      <td>1.0</td>\n",
       "      <td>2015-02-06 22:24:17</td>\n",
       "      <td>2015-02-06 23:27:16</td>\n",
       "      <td>1845</td>\n",
       "      <td>american</td>\n",
       "      <td>1.0</td>\n",
       "      <td>4</td>\n",
       "      <td>3441</td>\n",
       "      <td>4</td>\n",
       "      <td>557</td>\n",
       "      <td>1239</td>\n",
       "      <td>33.0</td>\n",
       "      <td>14.0</td>\n",
       "      <td>21.0</td>\n",
       "      <td>446</td>\n",
       "      <td>861.0</td>\n",
       "      <td>3779</td>\n",
       "      <td>evening</td>\n",
       "    </tr>\n",
       "    <tr>\n",
       "      <th>1</th>\n",
       "      <td>2.0</td>\n",
       "      <td>2015-02-10 21:49:25</td>\n",
       "      <td>2015-02-10 22:56:29</td>\n",
       "      <td>5477</td>\n",
       "      <td>mexican</td>\n",
       "      <td>2.0</td>\n",
       "      <td>1</td>\n",
       "      <td>1900</td>\n",
       "      <td>1</td>\n",
       "      <td>1400</td>\n",
       "      <td>1400</td>\n",
       "      <td>1.0</td>\n",
       "      <td>2.0</td>\n",
       "      <td>2.0</td>\n",
       "      <td>446</td>\n",
       "      <td>690.0</td>\n",
       "      <td>4024</td>\n",
       "      <td>evening</td>\n",
       "    </tr>\n",
       "    <tr>\n",
       "      <th>2</th>\n",
       "      <td>3.0</td>\n",
       "      <td>2015-01-22 20:39:28</td>\n",
       "      <td>2015-01-22 21:09:09</td>\n",
       "      <td>5477</td>\n",
       "      <td>american</td>\n",
       "      <td>1.0</td>\n",
       "      <td>1</td>\n",
       "      <td>1900</td>\n",
       "      <td>1</td>\n",
       "      <td>1900</td>\n",
       "      <td>1900</td>\n",
       "      <td>1.0</td>\n",
       "      <td>0.0</td>\n",
       "      <td>0.0</td>\n",
       "      <td>446</td>\n",
       "      <td>690.0</td>\n",
       "      <td>1781</td>\n",
       "      <td>evening</td>\n",
       "    </tr>\n",
       "    <tr>\n",
       "      <th>3</th>\n",
       "      <td>3.0</td>\n",
       "      <td>2015-02-03 21:21:45</td>\n",
       "      <td>2015-02-03 22:13:00</td>\n",
       "      <td>5477</td>\n",
       "      <td>american</td>\n",
       "      <td>1.0</td>\n",
       "      <td>6</td>\n",
       "      <td>6900</td>\n",
       "      <td>5</td>\n",
       "      <td>600</td>\n",
       "      <td>1800</td>\n",
       "      <td>1.0</td>\n",
       "      <td>1.0</td>\n",
       "      <td>2.0</td>\n",
       "      <td>446</td>\n",
       "      <td>289.0</td>\n",
       "      <td>3075</td>\n",
       "      <td>evening</td>\n",
       "    </tr>\n",
       "    <tr>\n",
       "      <th>4</th>\n",
       "      <td>3.0</td>\n",
       "      <td>2015-02-15 02:40:36</td>\n",
       "      <td>2015-02-15 03:20:26</td>\n",
       "      <td>5477</td>\n",
       "      <td>american</td>\n",
       "      <td>1.0</td>\n",
       "      <td>3</td>\n",
       "      <td>3900</td>\n",
       "      <td>3</td>\n",
       "      <td>1100</td>\n",
       "      <td>1600</td>\n",
       "      <td>6.0</td>\n",
       "      <td>6.0</td>\n",
       "      <td>9.0</td>\n",
       "      <td>446</td>\n",
       "      <td>650.0</td>\n",
       "      <td>2390</td>\n",
       "      <td>night</td>\n",
       "    </tr>\n",
       "  </tbody>\n",
       "</table>\n",
       "</div>"
      ],
      "text/plain": [
       "   market_id          created_at actual_delivery_time  store_id  \\\n",
       "0        1.0 2015-02-06 22:24:17  2015-02-06 23:27:16      1845   \n",
       "1        2.0 2015-02-10 21:49:25  2015-02-10 22:56:29      5477   \n",
       "2        3.0 2015-01-22 20:39:28  2015-01-22 21:09:09      5477   \n",
       "3        3.0 2015-02-03 21:21:45  2015-02-03 22:13:00      5477   \n",
       "4        3.0 2015-02-15 02:40:36  2015-02-15 03:20:26      5477   \n",
       "\n",
       "  store_primary_category  order_protocol  total_items  subtotal  \\\n",
       "0               american             1.0            4      3441   \n",
       "1                mexican             2.0            1      1900   \n",
       "2               american             1.0            1      1900   \n",
       "3               american             1.0            6      6900   \n",
       "4               american             1.0            3      3900   \n",
       "\n",
       "   num_distinct_items  min_item_price  max_item_price  total_onshift_dashers  \\\n",
       "0                   4             557            1239                   33.0   \n",
       "1                   1            1400            1400                    1.0   \n",
       "2                   1            1900            1900                    1.0   \n",
       "3                   5             600            1800                    1.0   \n",
       "4                   3            1100            1600                    6.0   \n",
       "\n",
       "   total_busy_dashers  total_outstanding_orders  \\\n",
       "0                14.0                      21.0   \n",
       "1                 2.0                       2.0   \n",
       "2                 0.0                       0.0   \n",
       "3                 1.0                       2.0   \n",
       "4                 6.0                       9.0   \n",
       "\n",
       "   estimated_order_place_duration  \\\n",
       "0                             446   \n",
       "1                             446   \n",
       "2                             446   \n",
       "3                             446   \n",
       "4                             446   \n",
       "\n",
       "   estimated_store_to_consumer_driving_duration  delivery_time  \\\n",
       "0                                         861.0           3779   \n",
       "1                                         690.0           4024   \n",
       "2                                         690.0           1781   \n",
       "3                                         289.0           3075   \n",
       "4                                         650.0           2390   \n",
       "\n",
       "  order_creation_time  \n",
       "0             evening  \n",
       "1             evening  \n",
       "2             evening  \n",
       "3             evening  \n",
       "4               night  "
      ]
     },
     "execution_count": 42,
     "metadata": {},
     "output_type": "execute_result"
    }
   ],
   "source": [
    "def define_day_parts(time):\n",
    "    time = time.hour\n",
    "    if time > 7 and time <= 12:\n",
    "        return 'morning'\n",
    "    elif time > 12 and time <= 17:\n",
    "        return 'afternoon'\n",
    "    elif time > 17 and time <= 22:\n",
    "        return 'evening'\n",
    "    else:\n",
    "        return 'night'\n",
    "\n",
    "data['order_creation_time'] = data.created_at.apply(define_day_parts)\n",
    "data.head(5)"
   ]
  },
  {
   "cell_type": "code",
   "execution_count": 43,
   "metadata": {},
   "outputs": [
    {
     "data": {
      "text/plain": [
       "Counter({'night': 136833, 'evening': 54486, 'afternoon': 6100, 'morning': 2})"
      ]
     },
     "execution_count": 43,
     "metadata": {},
     "output_type": "execute_result"
    }
   ],
   "source": [
    "from collections import Counter\n",
    "\n",
    "Counter(data['order_creation_time'])"
   ]
  },
  {
   "cell_type": "code",
   "execution_count": 44,
   "metadata": {},
   "outputs": [
    {
     "name": "stderr",
     "output_type": "stream",
     "text": [
      "d:\\Coding\\DataScience\\Projects\\DeliveryTimePrediction\\env\\lib\\site-packages\\seaborn\\axisgrid.py:118: UserWarning: The figure layout has changed to tight\n",
      "  self._figure.tight_layout(*args, **kwargs)\n"
     ]
    },
    {
     "data": {
      "text/plain": [
       "<seaborn.axisgrid.FacetGrid at 0x278ce53ad00>"
      ]
     },
     "execution_count": 44,
     "metadata": {},
     "output_type": "execute_result"
    },
    {
     "data": {
      "image/png": "[encoded data removed]",
      "text/plain": [
       "<Figure size 500x500 with 1 Axes>"
      ]
     },
     "metadata": {},
     "output_type": "display_data"
    }
   ],
   "source": [
    "sns.catplot(data=data, x='order_creation_time', y='delivery_time', kind='box')"
   ]
  },
  {
   "cell_type": "markdown",
   "metadata": {},
   "source": [
    "From the graph above I can say that the created categorical variable doesn't show any significant differences in the target variable.The only one category that could possibly be considered this way is, a morning category, but we have only two samples of it in the whole dataset, which means that it could be an outlier."
   ]
  },
  {
   "cell_type": "code",
   "execution_count": 12,
   "metadata": {},
   "outputs": [
    {
     "data": {
      "text/plain": [
       "<Axes: xlabel='order_creation_time', ylabel='count'>"
      ]
     },
     "execution_count": 12,
     "metadata": {},
     "output_type": "execute_result"
    },
    {
     "data": {
      "image/png": "[encoded data removed]",
      "text/plain": [
       "<Figure size 640x480 with 1 Axes>"
      ]
     },
     "metadata": {},
     "output_type": "display_data"
    }
   ],
   "source": [
    "sns.countplot(x=data.order_creation_time)"
   ]
  },
  {
   "cell_type": "markdown",
   "metadata": {},
   "source": [
    "Dataset mostly consists of orders that were taken in the night"
   ]
  },
  {
   "cell_type": "markdown",
   "metadata": {},
   "source": [
    "### Getting the additional features through other feature extractions"
   ]
  },
  {
   "cell_type": "code",
   "execution_count": 45,
   "metadata": {},
   "outputs": [],
   "source": [
    "data['percernt_of_busy_dashers'] = data.total_busy_dashers / data.total_onshift_dashers"
   ]
  },
  {
   "cell_type": "code",
   "execution_count": 46,
   "metadata": {},
   "outputs": [
    {
     "data": {
      "text/plain": [
       "count    1.775830e+05\n",
       "mean              NaN\n",
       "std               NaN\n",
       "min              -inf\n",
       "25%      8.269231e-01\n",
       "50%      9.622642e-01\n",
       "75%      1.000000e+00\n",
       "max               inf\n",
       "Name: percernt_of_busy_dashers, dtype: float64"
      ]
     },
     "execution_count": 46,
     "metadata": {},
     "output_type": "execute_result"
    }
   ],
   "source": [
    "data['percernt_of_busy_dashers'].describe()"
   ]
  },
  {
   "cell_type": "markdown",
   "metadata": {},
   "source": [
    "We have a problem with infinite values because of dividing by zero in some cases, so let's get rid of these values."
   ]
  },
  {
   "cell_type": "code",
   "execution_count": 47,
   "metadata": {},
   "outputs": [],
   "source": [
    "data['percernt_of_busy_dashers'].replace([np.inf, -np.inf], np.NAN, inplace=True)\n",
    "data.dropna(inplace=True)"
   ]
  },
  {
   "cell_type": "code",
   "execution_count": 48,
   "metadata": {},
   "outputs": [
    {
     "data": {
      "text/plain": [
       "count    177544.000000\n",
       "mean          0.949781\n",
       "std           0.406191\n",
       "min         -13.000000\n",
       "25%           0.826859\n",
       "50%           0.962264\n",
       "75%           1.000000\n",
       "max          31.000000\n",
       "Name: percernt_of_busy_dashers, dtype: float64"
      ]
     },
     "execution_count": 48,
     "metadata": {},
     "output_type": "execute_result"
    }
   ],
   "source": [
    "data['percernt_of_busy_dashers'].describe()"
   ]
  },
  {
   "cell_type": "markdown",
   "metadata": {},
   "source": [
    "Now that looks normal."
   ]
  },
  {
   "cell_type": "markdown",
   "metadata": {},
   "source": [
    "The total time that restaurants need to take to bring the order to the client is the time to get and process the order, then to prepare the order for the consumer and the drive duration to the consumer's home. Our dataset has all of these variables except the order preparation duration, which means that we can create one variable which will represent the non-preparation duration to deliver the order."
   ]
  },
  {
   "cell_type": "code",
   "execution_count": 49,
   "metadata": {},
   "outputs": [],
   "source": [
    "data['time_without_preparation'] = data['estimated_order_place_duration'] + data['estimated_store_to_consumer_driving_duration']"
   ]
  },
  {
   "cell_type": "code",
   "execution_count": 50,
   "metadata": {},
   "outputs": [
    {
     "data": {
      "text/html": [
       "<div>\n",
       "<style scoped>\n",
       "    .dataframe tbody tr th:only-of-type {\n",
       "        vertical-align: middle;\n",
       "    }\n",
       "\n",
       "    .dataframe tbody tr th {\n",
       "        vertical-align: top;\n",
       "    }\n",
       "\n",
       "    .dataframe thead th {\n",
       "        text-align: right;\n",
       "    }\n",
       "</style>\n",
       "<table border=\"1\" class=\"dataframe\">\n",
       "  <thead>\n",
       "    <tr style=\"text-align: right;\">\n",
       "      <th></th>\n",
       "      <th>market_id</th>\n",
       "      <th>created_at</th>\n",
       "      <th>actual_delivery_time</th>\n",
       "      <th>store_id</th>\n",
       "      <th>store_primary_category</th>\n",
       "      <th>order_protocol</th>\n",
       "      <th>total_items</th>\n",
       "      <th>subtotal</th>\n",
       "      <th>num_distinct_items</th>\n",
       "      <th>min_item_price</th>\n",
       "      <th>max_item_price</th>\n",
       "      <th>total_onshift_dashers</th>\n",
       "      <th>total_busy_dashers</th>\n",
       "      <th>total_outstanding_orders</th>\n",
       "      <th>estimated_order_place_duration</th>\n",
       "      <th>estimated_store_to_consumer_driving_duration</th>\n",
       "      <th>delivery_time</th>\n",
       "      <th>order_creation_time</th>\n",
       "      <th>percernt_of_busy_dashers</th>\n",
       "      <th>time_without_preparation</th>\n",
       "    </tr>\n",
       "  </thead>\n",
       "  <tbody>\n",
       "    <tr>\n",
       "      <th>0</th>\n",
       "      <td>1.0</td>\n",
       "      <td>2015-02-06 22:24:17</td>\n",
       "      <td>2015-02-06 23:27:16</td>\n",
       "      <td>1845</td>\n",
       "      <td>american</td>\n",
       "      <td>1.0</td>\n",
       "      <td>4</td>\n",
       "      <td>3441</td>\n",
       "      <td>4</td>\n",
       "      <td>557</td>\n",
       "      <td>1239</td>\n",
       "      <td>33.0</td>\n",
       "      <td>14.0</td>\n",
       "      <td>21.0</td>\n",
       "      <td>446</td>\n",
       "      <td>861.0</td>\n",
       "      <td>3779</td>\n",
       "      <td>evening</td>\n",
       "      <td>0.424242</td>\n",
       "      <td>1307.0</td>\n",
       "    </tr>\n",
       "    <tr>\n",
       "      <th>1</th>\n",
       "      <td>2.0</td>\n",
       "      <td>2015-02-10 21:49:25</td>\n",
       "      <td>2015-02-10 22:56:29</td>\n",
       "      <td>5477</td>\n",
       "      <td>mexican</td>\n",
       "      <td>2.0</td>\n",
       "      <td>1</td>\n",
       "      <td>1900</td>\n",
       "      <td>1</td>\n",
       "      <td>1400</td>\n",
       "      <td>1400</td>\n",
       "      <td>1.0</td>\n",
       "      <td>2.0</td>\n",
       "      <td>2.0</td>\n",
       "      <td>446</td>\n",
       "      <td>690.0</td>\n",
       "      <td>4024</td>\n",
       "      <td>evening</td>\n",
       "      <td>2.000000</td>\n",
       "      <td>1136.0</td>\n",
       "    </tr>\n",
       "    <tr>\n",
       "      <th>2</th>\n",
       "      <td>3.0</td>\n",
       "      <td>2015-01-22 20:39:28</td>\n",
       "      <td>2015-01-22 21:09:09</td>\n",
       "      <td>5477</td>\n",
       "      <td>american</td>\n",
       "      <td>1.0</td>\n",
       "      <td>1</td>\n",
       "      <td>1900</td>\n",
       "      <td>1</td>\n",
       "      <td>1900</td>\n",
       "      <td>1900</td>\n",
       "      <td>1.0</td>\n",
       "      <td>0.0</td>\n",
       "      <td>0.0</td>\n",
       "      <td>446</td>\n",
       "      <td>690.0</td>\n",
       "      <td>1781</td>\n",
       "      <td>evening</td>\n",
       "      <td>0.000000</td>\n",
       "      <td>1136.0</td>\n",
       "    </tr>\n",
       "    <tr>\n",
       "      <th>3</th>\n",
       "      <td>3.0</td>\n",
       "      <td>2015-02-03 21:21:45</td>\n",
       "      <td>2015-02-03 22:13:00</td>\n",
       "      <td>5477</td>\n",
       "      <td>american</td>\n",
       "      <td>1.0</td>\n",
       "      <td>6</td>\n",
       "      <td>6900</td>\n",
       "      <td>5</td>\n",
       "      <td>600</td>\n",
       "      <td>1800</td>\n",
       "      <td>1.0</td>\n",
       "      <td>1.0</td>\n",
       "      <td>2.0</td>\n",
       "      <td>446</td>\n",
       "      <td>289.0</td>\n",
       "      <td>3075</td>\n",
       "      <td>evening</td>\n",
       "      <td>1.000000</td>\n",
       "      <td>735.0</td>\n",
       "    </tr>\n",
       "    <tr>\n",
       "      <th>4</th>\n",
       "      <td>3.0</td>\n",
       "      <td>2015-02-15 02:40:36</td>\n",
       "      <td>2015-02-15 03:20:26</td>\n",
       "      <td>5477</td>\n",
       "      <td>american</td>\n",
       "      <td>1.0</td>\n",
       "      <td>3</td>\n",
       "      <td>3900</td>\n",
       "      <td>3</td>\n",
       "      <td>1100</td>\n",
       "      <td>1600</td>\n",
       "      <td>6.0</td>\n",
       "      <td>6.0</td>\n",
       "      <td>9.0</td>\n",
       "      <td>446</td>\n",
       "      <td>650.0</td>\n",
       "      <td>2390</td>\n",
       "      <td>night</td>\n",
       "      <td>1.000000</td>\n",
       "      <td>1096.0</td>\n",
       "    </tr>\n",
       "  </tbody>\n",
       "</table>\n",
       "</div>"
      ],
      "text/plain": [
       "   market_id          created_at actual_delivery_time  store_id  \\\n",
       "0        1.0 2015-02-06 22:24:17  2015-02-06 23:27:16      1845   \n",
       "1        2.0 2015-02-10 21:49:25  2015-02-10 22:56:29      5477   \n",
       "2        3.0 2015-01-22 20:39:28  2015-01-22 21:09:09      5477   \n",
       "3        3.0 2015-02-03 21:21:45  2015-02-03 22:13:00      5477   \n",
       "4        3.0 2015-02-15 02:40:36  2015-02-15 03:20:26      5477   \n",
       "\n",
       "  store_primary_category  order_protocol  total_items  subtotal  \\\n",
       "0               american             1.0            4      3441   \n",
       "1                mexican             2.0            1      1900   \n",
       "2               american             1.0            1      1900   \n",
       "3               american             1.0            6      6900   \n",
       "4               american             1.0            3      3900   \n",
       "\n",
       "   num_distinct_items  min_item_price  max_item_price  total_onshift_dashers  \\\n",
       "0                   4             557            1239                   33.0   \n",
       "1                   1            1400            1400                    1.0   \n",
       "2                   1            1900            1900                    1.0   \n",
       "3                   5             600            1800                    1.0   \n",
       "4                   3            1100            1600                    6.0   \n",
       "\n",
       "   total_busy_dashers  total_outstanding_orders  \\\n",
       "0                14.0                      21.0   \n",
       "1                 2.0                       2.0   \n",
       "2                 0.0                       0.0   \n",
       "3                 1.0                       2.0   \n",
       "4                 6.0                       9.0   \n",
       "\n",
       "   estimated_order_place_duration  \\\n",
       "0                             446   \n",
       "1                             446   \n",
       "2                             446   \n",
       "3                             446   \n",
       "4                             446   \n",
       "\n",
       "   estimated_store_to_consumer_driving_duration  delivery_time  \\\n",
       "0                                         861.0           3779   \n",
       "1                                         690.0           4024   \n",
       "2                                         690.0           1781   \n",
       "3                                         289.0           3075   \n",
       "4                                         650.0           2390   \n",
       "\n",
       "  order_creation_time  percernt_of_busy_dashers  time_without_preparation  \n",
       "0             evening                  0.424242                    1307.0  \n",
       "1             evening                  2.000000                    1136.0  \n",
       "2             evening                  0.000000                    1136.0  \n",
       "3             evening                  1.000000                     735.0  \n",
       "4               night                  1.000000                    1096.0  "
      ]
     },
     "execution_count": 50,
     "metadata": {},
     "output_type": "execute_result"
    }
   ],
   "source": [
    "data.head()"
   ]
  },
  {
   "cell_type": "markdown",
   "metadata": {},
   "source": [
    "### Variable encoding to prepare the dataset for modeling"
   ]
  },
  {
   "cell_type": "code",
   "execution_count": 55,
   "metadata": {},
   "outputs": [
    {
     "data": {
      "text/plain": [
       "5613"
      ]
     },
     "execution_count": 55,
     "metadata": {},
     "output_type": "execute_result"
    }
   ],
   "source": [
    "data.store_id.nunique()"
   ]
  },
  {
   "cell_type": "markdown",
   "metadata": {},
   "source": [
    "Here OneHotEncoder will be bad, because it will add new 5613 features."
   ]
  },
  {
   "cell_type": "code",
   "execution_count": 52,
   "metadata": {},
   "outputs": [
    {
     "data": {
      "text/plain": [
       "6"
      ]
     },
     "execution_count": 52,
     "metadata": {},
     "output_type": "execute_result"
    }
   ],
   "source": [
    "data.market_id.nunique()"
   ]
  },
  {
   "cell_type": "code",
   "execution_count": 53,
   "metadata": {},
   "outputs": [
    {
     "data": {
      "text/plain": [
       "7"
      ]
     },
     "execution_count": 53,
     "metadata": {},
     "output_type": "execute_result"
    }
   ],
   "source": [
    "data.order_protocol.nunique()"
   ]
  },
  {
   "cell_type": "code",
   "execution_count": 54,
   "metadata": {},
   "outputs": [
    {
     "data": {
      "text/plain": [
       "73"
      ]
     },
     "execution_count": 54,
     "metadata": {},
     "output_type": "execute_result"
    }
   ],
   "source": [
    "data.store_primary_category.nunique()"
   ]
  },
  {
   "cell_type": "markdown",
   "metadata": {},
   "source": [
    "In other cases, OneHotEncoder seems like a good option, so I will use it!"
   ]
  },
  {
   "cell_type": "code",
   "execution_count": 56,
   "metadata": {},
   "outputs": [],
   "source": [
    "market_id_dummies = pd.get_dummies(data.market_id, prefix='market_id_', dtype='float32')\n",
    "order_protocol_dummies = pd.get_dummies(data.order_protocol, prefix='order_protocol_', dtype='float32')\n",
    "store_primary_category_dummies = pd.get_dummies(data.store_primary_category, prefix='store_primary_category_', dtype='float32')\n",
    "order_creation_dummies = pd.get_dummies(data.order_creation_time, prefix='order_creation_', dtype='float32')"
   ]
  },
  {
   "cell_type": "markdown",
   "metadata": {},
   "source": [
    "Now let's create the training dataframe with all of these encoded features, deleting the useless."
   ]
  },
  {
   "cell_type": "code",
   "execution_count": 57,
   "metadata": {},
   "outputs": [
    {
     "data": {
      "text/html": [
       "<div>\n",
       "<style scoped>\n",
       "    .dataframe tbody tr th:only-of-type {\n",
       "        vertical-align: middle;\n",
       "    }\n",
       "\n",
       "    .dataframe tbody tr th {\n",
       "        vertical-align: top;\n",
       "    }\n",
       "\n",
       "    .dataframe thead th {\n",
       "        text-align: right;\n",
       "    }\n",
       "</style>\n",
       "<table border=\"1\" class=\"dataframe\">\n",
       "  <thead>\n",
       "    <tr style=\"text-align: right;\">\n",
       "      <th></th>\n",
       "      <th>total_items</th>\n",
       "      <th>subtotal</th>\n",
       "      <th>num_distinct_items</th>\n",
       "      <th>min_item_price</th>\n",
       "      <th>max_item_price</th>\n",
       "      <th>total_onshift_dashers</th>\n",
       "      <th>total_busy_dashers</th>\n",
       "      <th>total_outstanding_orders</th>\n",
       "      <th>estimated_order_place_duration</th>\n",
       "      <th>estimated_store_to_consumer_driving_duration</th>\n",
       "      <th>...</th>\n",
       "      <th>store_primary_category__sushi</th>\n",
       "      <th>store_primary_category__tapas</th>\n",
       "      <th>store_primary_category__thai</th>\n",
       "      <th>store_primary_category__turkish</th>\n",
       "      <th>store_primary_category__vegan</th>\n",
       "      <th>store_primary_category__vegetarian</th>\n",
       "      <th>store_primary_category__vietnamese</th>\n",
       "      <th>order_creation__afternoon</th>\n",
       "      <th>order_creation__evening</th>\n",
       "      <th>order_creation__night</th>\n",
       "    </tr>\n",
       "  </thead>\n",
       "  <tbody>\n",
       "    <tr>\n",
       "      <th>0</th>\n",
       "      <td>4.0</td>\n",
       "      <td>3441.0</td>\n",
       "      <td>4.0</td>\n",
       "      <td>557.0</td>\n",
       "      <td>1239.0</td>\n",
       "      <td>33.0</td>\n",
       "      <td>14.0</td>\n",
       "      <td>21.0</td>\n",
       "      <td>446.0</td>\n",
       "      <td>861.0</td>\n",
       "      <td>...</td>\n",
       "      <td>0.0</td>\n",
       "      <td>0.0</td>\n",
       "      <td>0.0</td>\n",
       "      <td>0.0</td>\n",
       "      <td>0.0</td>\n",
       "      <td>0.0</td>\n",
       "      <td>0.0</td>\n",
       "      <td>0.0</td>\n",
       "      <td>1.0</td>\n",
       "      <td>0.0</td>\n",
       "    </tr>\n",
       "    <tr>\n",
       "      <th>1</th>\n",
       "      <td>1.0</td>\n",
       "      <td>1900.0</td>\n",
       "      <td>1.0</td>\n",
       "      <td>1400.0</td>\n",
       "      <td>1400.0</td>\n",
       "      <td>1.0</td>\n",
       "      <td>2.0</td>\n",
       "      <td>2.0</td>\n",
       "      <td>446.0</td>\n",
       "      <td>690.0</td>\n",
       "      <td>...</td>\n",
       "      <td>0.0</td>\n",
       "      <td>0.0</td>\n",
       "      <td>0.0</td>\n",
       "      <td>0.0</td>\n",
       "      <td>0.0</td>\n",
       "      <td>0.0</td>\n",
       "      <td>0.0</td>\n",
       "      <td>0.0</td>\n",
       "      <td>1.0</td>\n",
       "      <td>0.0</td>\n",
       "    </tr>\n",
       "    <tr>\n",
       "      <th>2</th>\n",
       "      <td>1.0</td>\n",
       "      <td>1900.0</td>\n",
       "      <td>1.0</td>\n",
       "      <td>1900.0</td>\n",
       "      <td>1900.0</td>\n",
       "      <td>1.0</td>\n",
       "      <td>0.0</td>\n",
       "      <td>0.0</td>\n",
       "      <td>446.0</td>\n",
       "      <td>690.0</td>\n",
       "      <td>...</td>\n",
       "      <td>0.0</td>\n",
       "      <td>0.0</td>\n",
       "      <td>0.0</td>\n",
       "      <td>0.0</td>\n",
       "      <td>0.0</td>\n",
       "      <td>0.0</td>\n",
       "      <td>0.0</td>\n",
       "      <td>0.0</td>\n",
       "      <td>1.0</td>\n",
       "      <td>0.0</td>\n",
       "    </tr>\n",
       "    <tr>\n",
       "      <th>3</th>\n",
       "      <td>6.0</td>\n",
       "      <td>6900.0</td>\n",
       "      <td>5.0</td>\n",
       "      <td>600.0</td>\n",
       "      <td>1800.0</td>\n",
       "      <td>1.0</td>\n",
       "      <td>1.0</td>\n",
       "      <td>2.0</td>\n",
       "      <td>446.0</td>\n",
       "      <td>289.0</td>\n",
       "      <td>...</td>\n",
       "      <td>0.0</td>\n",
       "      <td>0.0</td>\n",
       "      <td>0.0</td>\n",
       "      <td>0.0</td>\n",
       "      <td>0.0</td>\n",
       "      <td>0.0</td>\n",
       "      <td>0.0</td>\n",
       "      <td>0.0</td>\n",
       "      <td>1.0</td>\n",
       "      <td>0.0</td>\n",
       "    </tr>\n",
       "    <tr>\n",
       "      <th>4</th>\n",
       "      <td>3.0</td>\n",
       "      <td>3900.0</td>\n",
       "      <td>3.0</td>\n",
       "      <td>1100.0</td>\n",
       "      <td>1600.0</td>\n",
       "      <td>6.0</td>\n",
       "      <td>6.0</td>\n",
       "      <td>9.0</td>\n",
       "      <td>446.0</td>\n",
       "      <td>650.0</td>\n",
       "      <td>...</td>\n",
       "      <td>0.0</td>\n",
       "      <td>0.0</td>\n",
       "      <td>0.0</td>\n",
       "      <td>0.0</td>\n",
       "      <td>0.0</td>\n",
       "      <td>0.0</td>\n",
       "      <td>0.0</td>\n",
       "      <td>0.0</td>\n",
       "      <td>0.0</td>\n",
       "      <td>1.0</td>\n",
       "    </tr>\n",
       "  </tbody>\n",
       "</table>\n",
       "<p>5 rows × 102 columns</p>\n",
       "</div>"
      ],
      "text/plain": [
       "   total_items  subtotal  num_distinct_items  min_item_price  max_item_price  \\\n",
       "0          4.0    3441.0                 4.0           557.0          1239.0   \n",
       "1          1.0    1900.0                 1.0          1400.0          1400.0   \n",
       "2          1.0    1900.0                 1.0          1900.0          1900.0   \n",
       "3          6.0    6900.0                 5.0           600.0          1800.0   \n",
       "4          3.0    3900.0                 3.0          1100.0          1600.0   \n",
       "\n",
       "   total_onshift_dashers  total_busy_dashers  total_outstanding_orders  \\\n",
       "0                   33.0                14.0                      21.0   \n",
       "1                    1.0                 2.0                       2.0   \n",
       "2                    1.0                 0.0                       0.0   \n",
       "3                    1.0                 1.0                       2.0   \n",
       "4                    6.0                 6.0                       9.0   \n",
       "\n",
       "   estimated_order_place_duration  \\\n",
       "0                           446.0   \n",
       "1                           446.0   \n",
       "2                           446.0   \n",
       "3                           446.0   \n",
       "4                           446.0   \n",
       "\n",
       "   estimated_store_to_consumer_driving_duration  ...  \\\n",
       "0                                         861.0  ...   \n",
       "1                                         690.0  ...   \n",
       "2                                         690.0  ...   \n",
       "3                                         289.0  ...   \n",
       "4                                         650.0  ...   \n",
       "\n",
       "   store_primary_category__sushi  store_primary_category__tapas  \\\n",
       "0                            0.0                            0.0   \n",
       "1                            0.0                            0.0   \n",
       "2                            0.0                            0.0   \n",
       "3                            0.0                            0.0   \n",
       "4                            0.0                            0.0   \n",
       "\n",
       "   store_primary_category__thai  store_primary_category__turkish  \\\n",
       "0                           0.0                              0.0   \n",
       "1                           0.0                              0.0   \n",
       "2                           0.0                              0.0   \n",
       "3                           0.0                              0.0   \n",
       "4                           0.0                              0.0   \n",
       "\n",
       "   store_primary_category__vegan  store_primary_category__vegetarian  \\\n",
       "0                            0.0                                 0.0   \n",
       "1                            0.0                                 0.0   \n",
       "2                            0.0                                 0.0   \n",
       "3                            0.0                                 0.0   \n",
       "4                            0.0                                 0.0   \n",
       "\n",
       "   store_primary_category__vietnamese  order_creation__afternoon  \\\n",
       "0                                 0.0                        0.0   \n",
       "1                                 0.0                        0.0   \n",
       "2                                 0.0                        0.0   \n",
       "3                                 0.0                        0.0   \n",
       "4                                 0.0                        0.0   \n",
       "\n",
       "   order_creation__evening  order_creation__night  \n",
       "0                      1.0                    0.0  \n",
       "1                      1.0                    0.0  \n",
       "2                      1.0                    0.0  \n",
       "3                      1.0                    0.0  \n",
       "4                      0.0                    1.0  \n",
       "\n",
       "[5 rows x 102 columns]"
      ]
     },
     "execution_count": 57,
     "metadata": {},
     "output_type": "execute_result"
    }
   ],
   "source": [
    "train_df = data.drop(['market_id', 'created_at', 'actual_delivery_time', 'store_id', 'store_primary_category', 'order_protocol', 'order_creation_time'], axis=1).astype('float32')\n",
    "train_df = pd.concat([train_df, market_id_dummies, order_protocol_dummies, store_primary_category_dummies, order_creation_dummies], axis=1)\n",
    "train_df.head()"
   ]
  },
  {
   "cell_type": "code",
   "execution_count": 58,
   "metadata": {},
   "outputs": [
    {
     "data": {
      "text/plain": [
       "(177544, 102)"
      ]
     },
     "execution_count": 58,
     "metadata": {},
     "output_type": "execute_result"
    }
   ],
   "source": [
    "train_df.shape"
   ]
  },
  {
   "cell_type": "markdown",
   "metadata": {},
   "source": [
    "Shape became smaller on the 0-axis because of infinites deleted in the 'percernt_of_busy_dashers' column."
   ]
  },
  {
   "cell_type": "markdown",
   "metadata": {},
   "source": [
    "### Handling the outliers in the dataset"
   ]
  },
  {
   "cell_type": "code",
   "execution_count": 59,
   "metadata": {},
   "outputs": [],
   "source": [
    "from copy import deepcopy\n",
    "\n",
    "def delete_outliers(data, feature_with_outliers):\n",
    "    dataframe = deepcopy(data)\n",
    "    mean = dataframe[feature_with_outliers].mean()\n",
    "    std = dataframe[feature_with_outliers].std()\n",
    "    dataframe['outlier'] = np.abs(dataframe[feature_with_outliers] - mean) > 3*std\n",
    "    dataframe = dataframe[dataframe['outlier'] == False]\n",
    "    dataframe.drop('outlier', axis=1, inplace=True)\n",
    "    return dataframe"
   ]
  },
  {
   "cell_type": "code",
   "execution_count": 60,
   "metadata": {},
   "outputs": [],
   "source": [
    "data_without_outliers = train_df.copy(deep=True)\n",
    "cols_with_outliers = ['total_items', 'subtotal', 'num_distinct_items', 'min_item_price',\n",
    "       'max_item_price', 'total_onshift_dashers', 'total_busy_dashers',\n",
    "       'total_outstanding_orders', 'estimated_order_place_duration',\n",
    "       'estimated_store_to_consumer_driving_duration', 'delivery_time',\n",
    "       'percernt_of_busy_dashers', 'time_without_preparation']\n",
    "for col in cols_with_outliers:\n",
    "    data_without_outliers = delete_outliers(data_without_outliers, col)"
   ]
  },
  {
   "cell_type": "code",
   "execution_count": 61,
   "metadata": {},
   "outputs": [
    {
     "data": {
      "text/plain": [
       "159518"
      ]
     },
     "execution_count": 61,
     "metadata": {},
     "output_type": "execute_result"
    }
   ],
   "source": [
    "len(data_without_outliers)"
   ]
  },
  {
   "cell_type": "code",
   "execution_count": 62,
   "metadata": {},
   "outputs": [
    {
     "data": {
      "image/png": "[encoded data removed]",
      "text/plain": [
       "<Figure size 1500x1100 with 13 Axes>"
      ]
     },
     "metadata": {},
     "output_type": "display_data"
    }
   ],
   "source": [
    "plt.figure(figsize=(15,11))\n",
    "for i, f in enumerate(data_without_outliers.columns[:13], start=1):\n",
    "    plt.subplot(4, 4, i)\n",
    "    plt.hist(data_without_outliers[f])\n",
    "    plt.title(f, fontsize=7)"
   ]
  },
  {
   "cell_type": "markdown",
   "metadata": {},
   "source": [
    "Looks like we solved the problem with outliers because distribution hists become more beautiful"
   ]
  },
  {
   "cell_type": "markdown",
   "metadata": {},
   "source": [
    "### Dealing with collinearity problem"
   ]
  },
  {
   "cell_type": "markdown",
   "metadata": {},
   "source": [
    "Some features may have a big correlation with each other which will worst model's performance, we need to find and delete those ones or apply some new feature engineering techniques to replace them with other features."
   ]
  },
  {
   "cell_type": "code",
   "execution_count": 32,
   "metadata": {},
   "outputs": [],
   "source": [
    "train_df = data_without_outliers.copy(deep=True)"
   ]
  },
  {
   "cell_type": "code",
   "execution_count": 33,
   "metadata": {},
   "outputs": [],
   "source": [
    "corrs = train_df.corr()"
   ]
  },
  {
   "cell_type": "code",
   "execution_count": 34,
   "metadata": {},
   "outputs": [
    {
     "data": {
      "text/html": [
       "<div>\n",
       "<style scoped>\n",
       "    .dataframe tbody tr th:only-of-type {\n",
       "        vertical-align: middle;\n",
       "    }\n",
       "\n",
       "    .dataframe tbody tr th {\n",
       "        vertical-align: top;\n",
       "    }\n",
       "\n",
       "    .dataframe thead th {\n",
       "        text-align: right;\n",
       "    }\n",
       "</style>\n",
       "<table border=\"1\" class=\"dataframe\">\n",
       "  <thead>\n",
       "    <tr style=\"text-align: right;\">\n",
       "      <th></th>\n",
       "      <th>Variable_1</th>\n",
       "      <th>Variable_2</th>\n",
       "      <th>Correlation</th>\n",
       "    </tr>\n",
       "  </thead>\n",
       "  <tbody>\n",
       "    <tr>\n",
       "      <th>0</th>\n",
       "      <td>total_onshift_dashers</td>\n",
       "      <td>total_busy_dashers</td>\n",
       "      <td>0.943060</td>\n",
       "    </tr>\n",
       "    <tr>\n",
       "      <th>1</th>\n",
       "      <td>total_onshift_dashers</td>\n",
       "      <td>total_outstanding_orders</td>\n",
       "      <td>0.934736</td>\n",
       "    </tr>\n",
       "    <tr>\n",
       "      <th>2</th>\n",
       "      <td>total_busy_dashers</td>\n",
       "      <td>total_outstanding_orders</td>\n",
       "      <td>0.934092</td>\n",
       "    </tr>\n",
       "    <tr>\n",
       "      <th>3</th>\n",
       "      <td>order_creation__evening</td>\n",
       "      <td>order_creation__night</td>\n",
       "      <td>0.930268</td>\n",
       "    </tr>\n",
       "    <tr>\n",
       "      <th>4</th>\n",
       "      <td>estimated_store_to_consumer_driving_duration</td>\n",
       "      <td>time_without_preparation</td>\n",
       "      <td>0.923301</td>\n",
       "    </tr>\n",
       "    <tr>\n",
       "      <th>5</th>\n",
       "      <td>estimated_order_place_duration</td>\n",
       "      <td>order_protocol__1.0</td>\n",
       "      <td>0.906674</td>\n",
       "    </tr>\n",
       "    <tr>\n",
       "      <th>6</th>\n",
       "      <td>total_items</td>\n",
       "      <td>num_distinct_items</td>\n",
       "      <td>0.859415</td>\n",
       "    </tr>\n",
       "    <tr>\n",
       "      <th>7</th>\n",
       "      <td>subtotal</td>\n",
       "      <td>num_distinct_items</td>\n",
       "      <td>0.650781</td>\n",
       "    </tr>\n",
       "    <tr>\n",
       "      <th>8</th>\n",
       "      <td>total_items</td>\n",
       "      <td>subtotal</td>\n",
       "      <td>0.635322</td>\n",
       "    </tr>\n",
       "    <tr>\n",
       "      <th>9</th>\n",
       "      <td>subtotal</td>\n",
       "      <td>max_item_price</td>\n",
       "      <td>0.553258</td>\n",
       "    </tr>\n",
       "    <tr>\n",
       "      <th>10</th>\n",
       "      <td>total_items</td>\n",
       "      <td>min_item_price</td>\n",
       "      <td>0.519808</td>\n",
       "    </tr>\n",
       "    <tr>\n",
       "      <th>11</th>\n",
       "      <td>num_distinct_items</td>\n",
       "      <td>min_item_price</td>\n",
       "      <td>0.511487</td>\n",
       "    </tr>\n",
       "    <tr>\n",
       "      <th>12</th>\n",
       "      <td>min_item_price</td>\n",
       "      <td>max_item_price</td>\n",
       "      <td>0.468692</td>\n",
       "    </tr>\n",
       "    <tr>\n",
       "      <th>13</th>\n",
       "      <td>order_protocol__4.0</td>\n",
       "      <td>store_primary_category__fast</td>\n",
       "      <td>0.462101</td>\n",
       "    </tr>\n",
       "    <tr>\n",
       "      <th>14</th>\n",
       "      <td>market_id__2.0</td>\n",
       "      <td>market_id__4.0</td>\n",
       "      <td>0.402984</td>\n",
       "    </tr>\n",
       "    <tr>\n",
       "      <th>15</th>\n",
       "      <td>order_protocol__1.0</td>\n",
       "      <td>order_protocol__3.0</td>\n",
       "      <td>0.376079</td>\n",
       "    </tr>\n",
       "    <tr>\n",
       "      <th>16</th>\n",
       "      <td>estimated_order_place_duration</td>\n",
       "      <td>order_protocol__3.0</td>\n",
       "      <td>0.366890</td>\n",
       "    </tr>\n",
       "    <tr>\n",
       "      <th>17</th>\n",
       "      <td>estimated_order_place_duration</td>\n",
       "      <td>time_without_preparation</td>\n",
       "      <td>0.356807</td>\n",
       "    </tr>\n",
       "    <tr>\n",
       "      <th>18</th>\n",
       "      <td>order_protocol__1.0</td>\n",
       "      <td>order_protocol__5.0</td>\n",
       "      <td>0.350925</td>\n",
       "    </tr>\n",
       "    <tr>\n",
       "      <th>19</th>\n",
       "      <td>estimated_order_place_duration</td>\n",
       "      <td>order_protocol__5.0</td>\n",
       "      <td>0.342721</td>\n",
       "    </tr>\n",
       "    <tr>\n",
       "      <th>20</th>\n",
       "      <td>market_id__1.0</td>\n",
       "      <td>market_id__2.0</td>\n",
       "      <td>0.337095</td>\n",
       "    </tr>\n",
       "    <tr>\n",
       "      <th>21</th>\n",
       "      <td>order_protocol__3.0</td>\n",
       "      <td>order_protocol__5.0</td>\n",
       "      <td>0.335972</td>\n",
       "    </tr>\n",
       "    <tr>\n",
       "      <th>22</th>\n",
       "      <td>total_onshift_dashers</td>\n",
       "      <td>order_creation__night</td>\n",
       "      <td>0.335315</td>\n",
       "    </tr>\n",
       "    <tr>\n",
       "      <th>23</th>\n",
       "      <td>total_outstanding_orders</td>\n",
       "      <td>order_creation__night</td>\n",
       "      <td>0.323286</td>\n",
       "    </tr>\n",
       "    <tr>\n",
       "      <th>24</th>\n",
       "      <td>time_without_preparation</td>\n",
       "      <td>order_protocol__1.0</td>\n",
       "      <td>0.322586</td>\n",
       "    </tr>\n",
       "    <tr>\n",
       "      <th>25</th>\n",
       "      <td>total_busy_dashers</td>\n",
       "      <td>order_creation__night</td>\n",
       "      <td>0.315448</td>\n",
       "    </tr>\n",
       "    <tr>\n",
       "      <th>26</th>\n",
       "      <td>total_onshift_dashers</td>\n",
       "      <td>market_id__2.0</td>\n",
       "      <td>0.313963</td>\n",
       "    </tr>\n",
       "    <tr>\n",
       "      <th>27</th>\n",
       "      <td>total_busy_dashers</td>\n",
       "      <td>market_id__2.0</td>\n",
       "      <td>0.306290</td>\n",
       "    </tr>\n",
       "  </tbody>\n",
       "</table>\n",
       "</div>"
      ],
      "text/plain": [
       "                                      Variable_1  \\\n",
       "0                          total_onshift_dashers   \n",
       "1                          total_onshift_dashers   \n",
       "2                             total_busy_dashers   \n",
       "3                        order_creation__evening   \n",
       "4   estimated_store_to_consumer_driving_duration   \n",
       "5                 estimated_order_place_duration   \n",
       "6                                    total_items   \n",
       "7                                       subtotal   \n",
       "8                                    total_items   \n",
       "9                                       subtotal   \n",
       "10                                   total_items   \n",
       "11                            num_distinct_items   \n",
       "12                                min_item_price   \n",
       "13                           order_protocol__4.0   \n",
       "14                                market_id__2.0   \n",
       "15                           order_protocol__1.0   \n",
       "16                estimated_order_place_duration   \n",
       "17                estimated_order_place_duration   \n",
       "18                           order_protocol__1.0   \n",
       "19                estimated_order_place_duration   \n",
       "20                                market_id__1.0   \n",
       "21                           order_protocol__3.0   \n",
       "22                         total_onshift_dashers   \n",
       "23                      total_outstanding_orders   \n",
       "24                      time_without_preparation   \n",
       "25                            total_busy_dashers   \n",
       "26                         total_onshift_dashers   \n",
       "27                            total_busy_dashers   \n",
       "\n",
       "                      Variable_2  Correlation  \n",
       "0             total_busy_dashers     0.943060  \n",
       "1       total_outstanding_orders     0.934736  \n",
       "2       total_outstanding_orders     0.934092  \n",
       "3          order_creation__night     0.930268  \n",
       "4       time_without_preparation     0.923301  \n",
       "5            order_protocol__1.0     0.906674  \n",
       "6             num_distinct_items     0.859415  \n",
       "7             num_distinct_items     0.650781  \n",
       "8                       subtotal     0.635322  \n",
       "9                 max_item_price     0.553258  \n",
       "10                min_item_price     0.519808  \n",
       "11                min_item_price     0.511487  \n",
       "12                max_item_price     0.468692  \n",
       "13  store_primary_category__fast     0.462101  \n",
       "14                market_id__4.0     0.402984  \n",
       "15           order_protocol__3.0     0.376079  \n",
       "16           order_protocol__3.0     0.366890  \n",
       "17      time_without_preparation     0.356807  \n",
       "18           order_protocol__5.0     0.350925  \n",
       "19           order_protocol__5.0     0.342721  \n",
       "20                market_id__2.0     0.337095  \n",
       "21           order_protocol__5.0     0.335972  \n",
       "22         order_creation__night     0.335315  \n",
       "23         order_creation__night     0.323286  \n",
       "24           order_protocol__1.0     0.322586  \n",
       "25         order_creation__night     0.315448  \n",
       "26                market_id__2.0     0.313963  \n",
       "27                market_id__2.0     0.306290  "
      ]
     },
     "execution_count": 34,
     "metadata": {},
     "output_type": "execute_result"
    }
   ],
   "source": [
    "def get_high_correlation_pairs(corrs):\n",
    "    high_corelations = pd.DataFrame({'Variable_1': [], 'Variable_2': [], 'Correlation': []})\n",
    "    for var1 in corrs.columns:\n",
    "        for var2 in corrs.columns:\n",
    "            if var1 != var2 and var2 not in list(high_corelations['Variable_1']):\n",
    "                if abs(corrs.loc[var2, var1]) >= 0.3:\n",
    "                    high_corelations.loc[len(high_corelations.index)] = [var1, var2, abs(corrs.loc[var2, var1])]\n",
    "    return high_corelations.sort_values(by='Correlation', ascending=False).reset_index(drop=True)\n",
    "get_high_correlation_pairs(corrs)"
   ]
  },
  {
   "cell_type": "markdown",
   "metadata": {},
   "source": [
    "We have some structural collniarity between the:\n",
    "- total_onshift_dashers and total_busy_dashers, total_outstanding_orders (Since we have 'percernt_of_busy_dashers' we can just drop it).\n",
    "- total_busy_dashers and total_outstanding_orders (The same drop for 'total_busy_dashers').\n",
    "- order_creation__evening and order_creation__night (This means we shouldn't have encoded them)\n",
    "- estimated_store_to_consumer_driving_duration and time_without_preparation (Since we have 'time_without_preparation' we can also drop it).\n",
    "- Market_ids and order_protocols also correlate with each other so I'll drop them too.\n",
    "\n",
    "So, let's firstly drop columns mentioned above."
   ]
  },
  {
   "cell_type": "code",
   "execution_count": 35,
   "metadata": {},
   "outputs": [],
   "source": [
    "train_df = train_df[train_df.columns.drop(list(train_df.filter(regex='market_id')))]\n",
    "train_df = train_df[train_df.columns.drop(list(train_df.filter(regex='order_creation')))]\n",
    "train_df = train_df[train_df.columns.drop(list(train_df.filter(regex='order_protocol')))]"
   ]
  },
  {
   "cell_type": "code",
   "execution_count": 36,
   "metadata": {},
   "outputs": [],
   "source": [
    "train_df.drop(['total_onshift_dashers', 'total_busy_dashers', 'estimated_store_to_consumer_driving_duration'], axis=1, inplace=True)"
   ]
  },
  {
   "cell_type": "code",
   "execution_count": 37,
   "metadata": {},
   "outputs": [
    {
     "data": {
      "text/html": [
       "<div>\n",
       "<style scoped>\n",
       "    .dataframe tbody tr th:only-of-type {\n",
       "        vertical-align: middle;\n",
       "    }\n",
       "\n",
       "    .dataframe tbody tr th {\n",
       "        vertical-align: top;\n",
       "    }\n",
       "\n",
       "    .dataframe thead th {\n",
       "        text-align: right;\n",
       "    }\n",
       "</style>\n",
       "<table border=\"1\" class=\"dataframe\">\n",
       "  <thead>\n",
       "    <tr style=\"text-align: right;\">\n",
       "      <th></th>\n",
       "      <th>Variable_1</th>\n",
       "      <th>Variable_2</th>\n",
       "      <th>Correlation</th>\n",
       "    </tr>\n",
       "  </thead>\n",
       "  <tbody>\n",
       "    <tr>\n",
       "      <th>0</th>\n",
       "      <td>total_items</td>\n",
       "      <td>num_distinct_items</td>\n",
       "      <td>0.859415</td>\n",
       "    </tr>\n",
       "    <tr>\n",
       "      <th>1</th>\n",
       "      <td>subtotal</td>\n",
       "      <td>num_distinct_items</td>\n",
       "      <td>0.650781</td>\n",
       "    </tr>\n",
       "    <tr>\n",
       "      <th>2</th>\n",
       "      <td>total_items</td>\n",
       "      <td>subtotal</td>\n",
       "      <td>0.635322</td>\n",
       "    </tr>\n",
       "    <tr>\n",
       "      <th>3</th>\n",
       "      <td>subtotal</td>\n",
       "      <td>max_item_price</td>\n",
       "      <td>0.553258</td>\n",
       "    </tr>\n",
       "    <tr>\n",
       "      <th>4</th>\n",
       "      <td>total_items</td>\n",
       "      <td>min_item_price</td>\n",
       "      <td>0.519808</td>\n",
       "    </tr>\n",
       "    <tr>\n",
       "      <th>5</th>\n",
       "      <td>num_distinct_items</td>\n",
       "      <td>min_item_price</td>\n",
       "      <td>0.511487</td>\n",
       "    </tr>\n",
       "    <tr>\n",
       "      <th>6</th>\n",
       "      <td>min_item_price</td>\n",
       "      <td>max_item_price</td>\n",
       "      <td>0.468692</td>\n",
       "    </tr>\n",
       "    <tr>\n",
       "      <th>7</th>\n",
       "      <td>estimated_order_place_duration</td>\n",
       "      <td>time_without_preparation</td>\n",
       "      <td>0.356807</td>\n",
       "    </tr>\n",
       "  </tbody>\n",
       "</table>\n",
       "</div>"
      ],
      "text/plain": [
       "                       Variable_1                Variable_2  Correlation\n",
       "0                     total_items        num_distinct_items     0.859415\n",
       "1                        subtotal        num_distinct_items     0.650781\n",
       "2                     total_items                  subtotal     0.635322\n",
       "3                        subtotal            max_item_price     0.553258\n",
       "4                     total_items            min_item_price     0.519808\n",
       "5              num_distinct_items            min_item_price     0.511487\n",
       "6                  min_item_price            max_item_price     0.468692\n",
       "7  estimated_order_place_duration  time_without_preparation     0.356807"
      ]
     },
     "execution_count": 37,
     "metadata": {},
     "output_type": "execute_result"
    }
   ],
   "source": [
    "corrs = train_df.corr()\n",
    "get_high_correlation_pairs(corrs)"
   ]
  },
  {
   "cell_type": "markdown",
   "metadata": {},
   "source": [
    "Here we again need some feature extraction to deal with high correlated pairs"
   ]
  },
  {
   "cell_type": "code",
   "execution_count": 38,
   "metadata": {},
   "outputs": [],
   "source": [
    "train_df['distinct_items_percentage'] = train_df.num_distinct_items / train_df.total_items\n",
    "train_df['avg_item_price'] = train_df.subtotal / train_df.total_items\n",
    "train_df.drop(['num_distinct_items', 'subtotal'], axis=1, inplace=True)"
   ]
  },
  {
   "cell_type": "code",
   "execution_count": 39,
   "metadata": {},
   "outputs": [
    {
     "data": {
      "text/html": [
       "<div>\n",
       "<style scoped>\n",
       "    .dataframe tbody tr th:only-of-type {\n",
       "        vertical-align: middle;\n",
       "    }\n",
       "\n",
       "    .dataframe tbody tr th {\n",
       "        vertical-align: top;\n",
       "    }\n",
       "\n",
       "    .dataframe thead th {\n",
       "        text-align: right;\n",
       "    }\n",
       "</style>\n",
       "<table border=\"1\" class=\"dataframe\">\n",
       "  <thead>\n",
       "    <tr style=\"text-align: right;\">\n",
       "      <th></th>\n",
       "      <th>Variable_1</th>\n",
       "      <th>Variable_2</th>\n",
       "      <th>Correlation</th>\n",
       "    </tr>\n",
       "  </thead>\n",
       "  <tbody>\n",
       "    <tr>\n",
       "      <th>0</th>\n",
       "      <td>min_item_price</td>\n",
       "      <td>avg_item_price</td>\n",
       "      <td>0.827997</td>\n",
       "    </tr>\n",
       "    <tr>\n",
       "      <th>1</th>\n",
       "      <td>max_item_price</td>\n",
       "      <td>avg_item_price</td>\n",
       "      <td>0.720752</td>\n",
       "    </tr>\n",
       "    <tr>\n",
       "      <th>2</th>\n",
       "      <td>total_items</td>\n",
       "      <td>min_item_price</td>\n",
       "      <td>0.519808</td>\n",
       "    </tr>\n",
       "    <tr>\n",
       "      <th>3</th>\n",
       "      <td>min_item_price</td>\n",
       "      <td>max_item_price</td>\n",
       "      <td>0.468692</td>\n",
       "    </tr>\n",
       "    <tr>\n",
       "      <th>4</th>\n",
       "      <td>total_items</td>\n",
       "      <td>distinct_items_percentage</td>\n",
       "      <td>0.448948</td>\n",
       "    </tr>\n",
       "    <tr>\n",
       "      <th>5</th>\n",
       "      <td>total_items</td>\n",
       "      <td>avg_item_price</td>\n",
       "      <td>0.395703</td>\n",
       "    </tr>\n",
       "    <tr>\n",
       "      <th>6</th>\n",
       "      <td>estimated_order_place_duration</td>\n",
       "      <td>time_without_preparation</td>\n",
       "      <td>0.356807</td>\n",
       "    </tr>\n",
       "  </tbody>\n",
       "</table>\n",
       "</div>"
      ],
      "text/plain": [
       "                       Variable_1                 Variable_2  Correlation\n",
       "0                  min_item_price             avg_item_price     0.827997\n",
       "1                  max_item_price             avg_item_price     0.720752\n",
       "2                     total_items             min_item_price     0.519808\n",
       "3                  min_item_price             max_item_price     0.468692\n",
       "4                     total_items  distinct_items_percentage     0.448948\n",
       "5                     total_items             avg_item_price     0.395703\n",
       "6  estimated_order_place_duration   time_without_preparation     0.356807"
      ]
     },
     "execution_count": 39,
     "metadata": {},
     "output_type": "execute_result"
    }
   ],
   "source": [
    "corrs = train_df.corr()\n",
    "get_high_correlation_pairs(corrs)"
   ]
  },
  {
   "cell_type": "markdown",
   "metadata": {},
   "source": [
    "And the last extraction for prices"
   ]
  },
  {
   "cell_type": "code",
   "execution_count": 40,
   "metadata": {},
   "outputs": [
    {
     "data": {
      "text/html": [
       "<div>\n",
       "<style scoped>\n",
       "    .dataframe tbody tr th:only-of-type {\n",
       "        vertical-align: middle;\n",
       "    }\n",
       "\n",
       "    .dataframe tbody tr th {\n",
       "        vertical-align: top;\n",
       "    }\n",
       "\n",
       "    .dataframe thead th {\n",
       "        text-align: right;\n",
       "    }\n",
       "</style>\n",
       "<table border=\"1\" class=\"dataframe\">\n",
       "  <thead>\n",
       "    <tr style=\"text-align: right;\">\n",
       "      <th></th>\n",
       "      <th>Variable_1</th>\n",
       "      <th>Variable_2</th>\n",
       "      <th>Correlation</th>\n",
       "    </tr>\n",
       "  </thead>\n",
       "  <tbody>\n",
       "    <tr>\n",
       "      <th>0</th>\n",
       "      <td>total_items</td>\n",
       "      <td>max_min_price_range</td>\n",
       "      <td>0.475567</td>\n",
       "    </tr>\n",
       "    <tr>\n",
       "      <th>1</th>\n",
       "      <td>total_items</td>\n",
       "      <td>distinct_items_percentage</td>\n",
       "      <td>0.448948</td>\n",
       "    </tr>\n",
       "    <tr>\n",
       "      <th>2</th>\n",
       "      <td>total_items</td>\n",
       "      <td>avg_item_price</td>\n",
       "      <td>0.395703</td>\n",
       "    </tr>\n",
       "    <tr>\n",
       "      <th>3</th>\n",
       "      <td>estimated_order_place_duration</td>\n",
       "      <td>time_without_preparation</td>\n",
       "      <td>0.356807</td>\n",
       "    </tr>\n",
       "  </tbody>\n",
       "</table>\n",
       "</div>"
      ],
      "text/plain": [
       "                       Variable_1                 Variable_2  Correlation\n",
       "0                     total_items        max_min_price_range     0.475567\n",
       "1                     total_items  distinct_items_percentage     0.448948\n",
       "2                     total_items             avg_item_price     0.395703\n",
       "3  estimated_order_place_duration   time_without_preparation     0.356807"
      ]
     },
     "execution_count": 40,
     "metadata": {},
     "output_type": "execute_result"
    }
   ],
   "source": [
    "train_df['max_min_price_range'] = train_df.max_item_price - train_df.min_item_price\n",
    "train_df.drop(['max_item_price', 'min_item_price'], axis=1, inplace=True)\n",
    "corrs = train_df.corr()\n",
    "get_high_correlation_pairs(corrs)"
   ]
  },
  {
   "cell_type": "markdown",
   "metadata": {},
   "source": [
    "These correlations are not that critical compared to the values above."
   ]
  },
  {
   "cell_type": "markdown",
   "metadata": {},
   "source": [
    "### Detecting multicollinearity with VIF"
   ]
  },
  {
   "cell_type": "markdown",
   "metadata": {},
   "source": [
    "VIF is a variance inflation factor wich calculates by the formula:\n",
    "\n",
    "*VIF = 1 / (1-R2), where R2 is a coefficient of determination or R-squared*"
   ]
  },
  {
   "cell_type": "markdown",
   "metadata": {},
   "source": [
    "First we need to split the data into the independent and dependent variables"
   ]
  },
  {
   "cell_type": "code",
   "execution_count": 42,
   "metadata": {},
   "outputs": [],
   "source": [
    "X, y = train_df.loc[:, [c for c in train_df.columns if c != 'delivery_time']], train_df.delivery_time"
   ]
  },
  {
   "cell_type": "code",
   "execution_count": 43,
   "metadata": {},
   "outputs": [
    {
     "name": "stderr",
     "output_type": "stream",
     "text": [
      "d:\\Coding\\DataScience\\Projects\\DeliveryTimePrediction\\env\\lib\\site-packages\\statsmodels\\regression\\linear_model.py:1783: RuntimeWarning: invalid value encountered in scalar divide\n",
      "  return 1 - self.ssr/self.uncentered_tss\n"
     ]
    }
   ],
   "source": [
    "from statsmodels.stats.outliers_influence import variance_inflation_factor\n",
    "\n",
    "vif_data = pd.DataFrame()\n",
    "vif_data['feature'] = X.columns\n",
    "vif_data['VIF'] = [variance_inflation_factor(X.values, i) for i in range(len(X.columns))]"
   ]
  },
  {
   "cell_type": "markdown",
   "metadata": {},
   "source": [
    "The range of VIF is from 1 to infinity, where 1 means that a variable doesn't correlate with others. The higher this score is, the bigger correlation the variable has with other ones in the dataset. I'll choose the VIF of 25 as the optimal value and try to get rid of variables which will have a bigger score."
   ]
  },
  {
   "cell_type": "code",
   "execution_count": 44,
   "metadata": {},
   "outputs": [
    {
     "data": {
      "text/html": [
       "<div>\n",
       "<style scoped>\n",
       "    .dataframe tbody tr th:only-of-type {\n",
       "        vertical-align: middle;\n",
       "    }\n",
       "\n",
       "    .dataframe tbody tr th {\n",
       "        vertical-align: top;\n",
       "    }\n",
       "\n",
       "    .dataframe thead th {\n",
       "        text-align: right;\n",
       "    }\n",
       "</style>\n",
       "<table border=\"1\" class=\"dataframe\">\n",
       "  <thead>\n",
       "    <tr style=\"text-align: right;\">\n",
       "      <th></th>\n",
       "      <th>feature</th>\n",
       "      <th>VIF</th>\n",
       "    </tr>\n",
       "  </thead>\n",
       "  <tbody>\n",
       "    <tr>\n",
       "      <th>0</th>\n",
       "      <td>distinct_items_percentage</td>\n",
       "      <td>39.354509</td>\n",
       "    </tr>\n",
       "  </tbody>\n",
       "</table>\n",
       "</div>"
      ],
      "text/plain": [
       "                     feature        VIF\n",
       "0  distinct_items_percentage  39.354509"
      ]
     },
     "execution_count": 44,
     "metadata": {},
     "output_type": "execute_result"
    }
   ],
   "source": [
    "vif_data[vif_data.VIF >= 25].sort_values(by='VIF', ascending=False).reset_index(drop=True)"
   ]
  },
  {
   "cell_type": "markdown",
   "metadata": {},
   "source": [
    "I should delete this variable because it has a pretty big VIF score and this can cause some problems with linear models and coefficient interpretations"
   ]
  },
  {
   "cell_type": "code",
   "execution_count": 49,
   "metadata": {},
   "outputs": [],
   "source": [
    "train_df.drop(['distinct_items_percentage'], axis=1, inplace=True)\n",
    "X.drop(['distinct_items_percentage'], axis=1, inplace=True)"
   ]
  },
  {
   "cell_type": "markdown",
   "metadata": {},
   "source": [
    "And the final shape of our model would be:"
   ]
  },
  {
   "cell_type": "code",
   "execution_count": 50,
   "metadata": {},
   "outputs": [
    {
     "data": {
      "text/plain": [
       "(159518, 81)"
      ]
     },
     "execution_count": 50,
     "metadata": {},
     "output_type": "execute_result"
    }
   ],
   "source": [
    "train_df.shape"
   ]
  },
  {
   "cell_type": "markdown",
   "metadata": {},
   "source": [
    "The final version of the train dataset will have 80 features and input, so from this moment we can go further to the model creation and evaluation."
   ]
  },
  {
   "cell_type": "markdown",
   "metadata": {},
   "source": [
    "### Model creation.\n",
    "### I will choose between __Linear Regression__, __K-Nearest Neighbors regressor__ and __Random forest regressor__."
   ]
  },
  {
   "cell_type": "markdown",
   "metadata": {},
   "source": [
    "#### Firstly, let's standardize the numerical data."
   ]
  },
  {
   "cell_type": "code",
   "execution_count": 61,
   "metadata": {},
   "outputs": [],
   "source": [
    "cols_to_standartize = list(X.columns[:5]) + list(X.columns[-2:])"
   ]
  },
  {
   "cell_type": "code",
   "execution_count": 62,
   "metadata": {},
   "outputs": [],
   "source": [
    "from sklearn.preprocessing import StandardScaler\n",
    "\n",
    "X[cols_to_standartize] = StandardScaler().fit_transform(X[cols_to_standartize])"
   ]
  },
  {
   "cell_type": "code",
   "execution_count": 65,
   "metadata": {},
   "outputs": [
    {
     "data": {
      "text/html": [
       "<div>\n",
       "<style scoped>\n",
       "    .dataframe tbody tr th:only-of-type {\n",
       "        vertical-align: middle;\n",
       "    }\n",
       "\n",
       "    .dataframe tbody tr th {\n",
       "        vertical-align: top;\n",
       "    }\n",
       "\n",
       "    .dataframe thead th {\n",
       "        text-align: right;\n",
       "    }\n",
       "</style>\n",
       "<table border=\"1\" class=\"dataframe\">\n",
       "  <thead>\n",
       "    <tr style=\"text-align: right;\">\n",
       "      <th></th>\n",
       "      <th>total_items</th>\n",
       "      <th>total_outstanding_orders</th>\n",
       "      <th>estimated_order_place_duration</th>\n",
       "      <th>percernt_of_busy_dashers</th>\n",
       "      <th>time_without_preparation</th>\n",
       "      <th>avg_item_price</th>\n",
       "      <th>max_min_price_range</th>\n",
       "    </tr>\n",
       "  </thead>\n",
       "  <tbody>\n",
       "    <tr>\n",
       "      <th>0</th>\n",
       "      <td>0.659501</td>\n",
       "      <td>-0.730816</td>\n",
       "      <td>1.554171</td>\n",
       "      <td>-2.133673</td>\n",
       "      <td>1.974484</td>\n",
       "      <td>-0.188388</td>\n",
       "      <td>0.565444</td>\n",
       "    </tr>\n",
       "    <tr>\n",
       "      <th>1</th>\n",
       "      <td>-1.120170</td>\n",
       "      <td>-1.115603</td>\n",
       "      <td>1.554171</td>\n",
       "      <td>4.509206</td>\n",
       "      <td>1.234151</td>\n",
       "      <td>2.311989</td>\n",
       "      <td>-0.991342</td>\n",
       "    </tr>\n",
       "    <tr>\n",
       "      <th>2</th>\n",
       "      <td>-1.120170</td>\n",
       "      <td>-1.156107</td>\n",
       "      <td>1.554171</td>\n",
       "      <td>-3.922140</td>\n",
       "      <td>1.234151</td>\n",
       "      <td>2.311989</td>\n",
       "      <td>-0.991342</td>\n",
       "    </tr>\n",
       "    <tr>\n",
       "      <th>3</th>\n",
       "      <td>1.845948</td>\n",
       "      <td>-1.115603</td>\n",
       "      <td>1.554171</td>\n",
       "      <td>0.293533</td>\n",
       "      <td>-0.501952</td>\n",
       "      <td>0.508399</td>\n",
       "      <td>1.747871</td>\n",
       "    </tr>\n",
       "    <tr>\n",
       "      <th>4</th>\n",
       "      <td>0.066277</td>\n",
       "      <td>-0.973840</td>\n",
       "      <td>1.554171</td>\n",
       "      <td>0.293533</td>\n",
       "      <td>1.060973</td>\n",
       "      <td>0.869117</td>\n",
       "      <td>0.149997</td>\n",
       "    </tr>\n",
       "  </tbody>\n",
       "</table>\n",
       "</div>"
      ],
      "text/plain": [
       "   total_items  total_outstanding_orders  estimated_order_place_duration  \\\n",
       "0     0.659501                 -0.730816                        1.554171   \n",
       "1    -1.120170                 -1.115603                        1.554171   \n",
       "2    -1.120170                 -1.156107                        1.554171   \n",
       "3     1.845948                 -1.115603                        1.554171   \n",
       "4     0.066277                 -0.973840                        1.554171   \n",
       "\n",
       "   percernt_of_busy_dashers  time_without_preparation  avg_item_price  \\\n",
       "0                 -2.133673                  1.974484       -0.188388   \n",
       "1                  4.509206                  1.234151        2.311989   \n",
       "2                 -3.922140                  1.234151        2.311989   \n",
       "3                  0.293533                 -0.501952        0.508399   \n",
       "4                  0.293533                  1.060973        0.869117   \n",
       "\n",
       "   max_min_price_range  \n",
       "0             0.565444  \n",
       "1            -0.991342  \n",
       "2            -0.991342  \n",
       "3             1.747871  \n",
       "4             0.149997  "
      ]
     },
     "execution_count": 65,
     "metadata": {},
     "output_type": "execute_result"
    }
   ],
   "source": [
    "X[cols_to_standartize].head()"
   ]
  },
  {
   "cell_type": "code",
   "execution_count": 70,
   "metadata": {},
   "outputs": [],
   "source": [
    "from sklearn.neighbors import KNeighborsRegressor\n",
    "from sklearn.ensemble import RandomForestRegressor\n",
    "from sklearn.linear_model import LinearRegression\n",
    "from sklearn.model_selection import cross_val_score\n",
    "\n",
    "def compare_models_cv(X, y, models, score, folds=10):\n",
    "    performs = []\n",
    "    for model in models:\n",
    "        mean_score = cross_val_score(model, X, y, cv=folds, scoring=score).mean()\n",
    "        performs.append({\n",
    "            'model': type(model).__name__,\n",
    "            'mean_score': mean_score\n",
    "        })\n",
    "    return pd.DataFrame(performs)"
   ]
  },
  {
   "cell_type": "code",
   "execution_count": 69,
   "metadata": {},
   "outputs": [
    {
     "data": {
      "text/html": [
       "<div>\n",
       "<style scoped>\n",
       "    .dataframe tbody tr th:only-of-type {\n",
       "        vertical-align: middle;\n",
       "    }\n",
       "\n",
       "    .dataframe tbody tr th {\n",
       "        vertical-align: top;\n",
       "    }\n",
       "\n",
       "    .dataframe thead th {\n",
       "        text-align: right;\n",
       "    }\n",
       "</style>\n",
       "<table border=\"1\" class=\"dataframe\">\n",
       "  <thead>\n",
       "    <tr style=\"text-align: right;\">\n",
       "      <th></th>\n",
       "      <th>model</th>\n",
       "      <th>mean_score</th>\n",
       "    </tr>\n",
       "  </thead>\n",
       "  <tbody>\n",
       "    <tr>\n",
       "      <th>0</th>\n",
       "      <td>LinearRegression</td>\n",
       "      <td>-691.694611</td>\n",
       "    </tr>\n",
       "    <tr>\n",
       "      <th>1</th>\n",
       "      <td>KNeighborsRegressor</td>\n",
       "      <td>-722.177979</td>\n",
       "    </tr>\n",
       "    <tr>\n",
       "      <th>2</th>\n",
       "      <td>RandomForestRegressor</td>\n",
       "      <td>-698.358086</td>\n",
       "    </tr>\n",
       "  </tbody>\n",
       "</table>\n",
       "</div>"
      ],
      "text/plain": [
       "                   model  mean_score\n",
       "0       LinearRegression -691.694611\n",
       "1    KNeighborsRegressor -722.177979\n",
       "2  RandomForestRegressor -698.358086"
      ]
     },
     "execution_count": 69,
     "metadata": {},
     "output_type": "execute_result"
    }
   ],
   "source": [
    "models = [LinearRegression(), KNeighborsRegressor(), RandomForestRegressor(n_estimators=10)]\n",
    "results = compare_models_cv(X, y, models, 'neg_mean_absolute_error', 10)\n",
    "results"
   ]
  },
  {
   "cell_type": "code",
   "execution_count": 71,
   "metadata": {},
   "outputs": [
    {
     "data": {
      "text/html": [
       "<div>\n",
       "<style scoped>\n",
       "    .dataframe tbody tr th:only-of-type {\n",
       "        vertical-align: middle;\n",
       "    }\n",
       "\n",
       "    .dataframe tbody tr th {\n",
       "        vertical-align: top;\n",
       "    }\n",
       "\n",
       "    .dataframe thead th {\n",
       "        text-align: right;\n",
       "    }\n",
       "</style>\n",
       "<table border=\"1\" class=\"dataframe\">\n",
       "  <thead>\n",
       "    <tr style=\"text-align: right;\">\n",
       "      <th></th>\n",
       "      <th>model</th>\n",
       "      <th>mean_score</th>\n",
       "    </tr>\n",
       "  </thead>\n",
       "  <tbody>\n",
       "    <tr>\n",
       "      <th>0</th>\n",
       "      <td>LinearRegression</td>\n",
       "      <td>-2715.886060</td>\n",
       "    </tr>\n",
       "    <tr>\n",
       "      <th>1</th>\n",
       "      <td>KNeighborsRegressor</td>\n",
       "      <td>-933.912274</td>\n",
       "    </tr>\n",
       "    <tr>\n",
       "      <th>2</th>\n",
       "      <td>RandomForestRegressor</td>\n",
       "      <td>-900.536743</td>\n",
       "    </tr>\n",
       "  </tbody>\n",
       "</table>\n",
       "</div>"
      ],
      "text/plain": [
       "                   model   mean_score\n",
       "0       LinearRegression -2715.886060\n",
       "1    KNeighborsRegressor  -933.912274\n",
       "2  RandomForestRegressor  -900.536743"
      ]
     },
     "execution_count": 71,
     "metadata": {},
     "output_type": "execute_result"
    }
   ],
   "source": [
    "results_rt = compare_models_cv(X, y, models, 'neg_root_mean_squared_error', 10)\n",
    "results_rt"
   ]
  },
  {
   "cell_type": "markdown",
   "metadata": {},
   "source": [
    "It looks like Random Forest Regressor gives us the best performance of all other models."
   ]
  },
  {
   "cell_type": "markdown",
   "metadata": {},
   "source": [
    "### Hyperparameter tuning"
   ]
  },
  {
   "cell_type": "code",
   "execution_count": 101,
   "metadata": {},
   "outputs": [],
   "source": [
    "n_estimators = [int(x) for x in np.linspace(10, 200, num=5)]\n",
    "max_depth = [int(x) for x in np.linspace(3, 10, num=7)] + [None]\n",
    "max_features = [int(x) for x in np.linspace(1, 7, num=7)]\n",
    "min_samples_leaf = [1, 2, 3]\n",
    "min_samples_split = [2, 3, 4, 5]"
   ]
  },
  {
   "cell_type": "code",
   "execution_count": 102,
   "metadata": {},
   "outputs": [],
   "source": [
    "from sklearn.model_selection import RandomizedSearchCV\n",
    "\n",
    "parameters = {\n",
    "    'n_estimators': n_estimators,\n",
    "    'max_depth': max_depth,\n",
    "    'max_features': max_features,\n",
    "    'min_samples_leaf': min_samples_leaf,\n",
    "    'min_samples_split': min_samples_split\n",
    "}\n",
    "\n",
    "grid = RandomizedSearchCV(RandomForestRegressor(), param_distributions=parameters, n_iter=100, scoring='neg_root_mean_squared_error', cv=5)"
   ]
  },
  {
   "cell_type": "code",
   "execution_count": 103,
   "metadata": {},
   "outputs": [],
   "source": [
    "model_grid = grid.fit(X, y) # Be carefull with this line, it takes 68 minutes to work on my PC."
   ]
  },
  {
   "cell_type": "code",
   "execution_count": 105,
   "metadata": {},
   "outputs": [
    {
     "data": {
      "text/plain": [
       "-856.5209426685353"
      ]
     },
     "execution_count": 105,
     "metadata": {},
     "output_type": "execute_result"
    }
   ],
   "source": [
    "model_grid.best_score_"
   ]
  },
  {
   "cell_type": "code",
   "execution_count": 106,
   "metadata": {},
   "outputs": [
    {
     "data": {
      "text/html": [
       "<style>#sk-container-id-1 {color: black;}#sk-container-id-1 pre{padding: 0;}#sk-container-id-1 div.sk-toggleable {background-color: white;}#sk-container-id-1 label.sk-toggleable__label {cursor: pointer;display: block;width: 100%;margin-bottom: 0;padding: 0.3em;box-sizing: border-box;text-align: center;}#sk-container-id-1 label.sk-toggleable__label-arrow:before {content: \"▸\";float: left;margin-right: 0.25em;color: #696969;}#sk-container-id-1 label.sk-toggleable__label-arrow:hover:before {color: black;}#sk-container-id-1 div.sk-estimator:hover label.sk-toggleable__label-arrow:before {color: black;}#sk-container-id-1 div.sk-toggleable__content {max-height: 0;max-width: 0;overflow: hidden;text-align: left;background-color: #f0f8ff;}#sk-container-id-1 div.sk-toggleable__content pre {margin: 0.2em;color: black;border-radius: 0.25em;background-color: #f0f8ff;}#sk-container-id-1 input.sk-toggleable__control:checked~div.sk-toggleable__content {max-height: 200px;max-width: 100%;overflow: auto;}#sk-container-id-1 input.sk-toggleable__control:checked~label.sk-toggleable__label-arrow:before {content: \"▾\";}#sk-container-id-1 div.sk-estimator input.sk-toggleable__control:checked~label.sk-toggleable__label {background-color: #d4ebff;}#sk-container-id-1 div.sk-label input.sk-toggleable__control:checked~label.sk-toggleable__label {background-color: #d4ebff;}#sk-container-id-1 input.sk-hidden--visually {border: 0;clip: rect(1px 1px 1px 1px);clip: rect(1px, 1px, 1px, 1px);height: 1px;margin: -1px;overflow: hidden;padding: 0;position: absolute;width: 1px;}#sk-container-id-1 div.sk-estimator {font-family: monospace;background-color: #f0f8ff;border: 1px dotted black;border-radius: 0.25em;box-sizing: border-box;margin-bottom: 0.5em;}#sk-container-id-1 div.sk-estimator:hover {background-color: #d4ebff;}#sk-container-id-1 div.sk-parallel-item::after {content: \"\";width: 100%;border-bottom: 1px solid gray;flex-grow: 1;}#sk-container-id-1 div.sk-label:hover label.sk-toggleable__label {background-color: #d4ebff;}#sk-container-id-1 div.sk-serial::before {content: \"\";position: absolute;border-left: 1px solid gray;box-sizing: border-box;top: 0;bottom: 0;left: 50%;z-index: 0;}#sk-container-id-1 div.sk-serial {display: flex;flex-direction: column;align-items: center;background-color: white;padding-right: 0.2em;padding-left: 0.2em;position: relative;}#sk-container-id-1 div.sk-item {position: relative;z-index: 1;}#sk-container-id-1 div.sk-parallel {display: flex;align-items: stretch;justify-content: center;background-color: white;position: relative;}#sk-container-id-1 div.sk-item::before, #sk-container-id-1 div.sk-parallel-item::before {content: \"\";position: absolute;border-left: 1px solid gray;box-sizing: border-box;top: 0;bottom: 0;left: 50%;z-index: -1;}#sk-container-id-1 div.sk-parallel-item {display: flex;flex-direction: column;z-index: 1;position: relative;background-color: white;}#sk-container-id-1 div.sk-parallel-item:first-child::after {align-self: flex-end;width: 50%;}#sk-container-id-1 div.sk-parallel-item:last-child::after {align-self: flex-start;width: 50%;}#sk-container-id-1 div.sk-parallel-item:only-child::after {width: 0;}#sk-container-id-1 div.sk-dashed-wrapped {border: 1px dashed gray;margin: 0 0.4em 0.5em 0.4em;box-sizing: border-box;padding-bottom: 0.4em;background-color: white;}#sk-container-id-1 div.sk-label label {font-family: monospace;font-weight: bold;display: inline-block;line-height: 1.2em;}#sk-container-id-1 div.sk-label-container {text-align: center;}#sk-container-id-1 div.sk-container {/* jupyter's `normalize.less` sets `[hidden] { display: none; }` but bootstrap.min.css set `[hidden] { display: none !important; }` so we also need the `!important` here to be able to override the default hidden behavior on the sphinx rendered scikit-learn.org. See: https://github.com/scikit-learn/scikit-learn/issues/21755 */display: inline-block !important;position: relative;}#sk-container-id-1 div.sk-text-repr-fallback {display: none;}</style><div id=\"sk-container-id-1\" class=\"sk-top-container\"><div class=\"sk-text-repr-fallback\"><pre>RandomForestRegressor(max_features=7, min_samples_split=5, n_estimators=200)</pre><b>In a Jupyter environment, please rerun this cell to show the HTML representation or trust the notebook. <br />On GitHub, the HTML representation is unable to render, please try loading this page with nbviewer.org.</b></div><div class=\"sk-container\" hidden><div class=\"sk-item\"><div class=\"sk-estimator sk-toggleable\"><input class=\"sk-toggleable__control sk-hidden--visually\" id=\"sk-estimator-id-1\" type=\"checkbox\" checked><label for=\"sk-estimator-id-1\" class=\"sk-toggleable__label sk-toggleable__label-arrow\">RandomForestRegressor</label><div class=\"sk-toggleable__content\"><pre>RandomForestRegressor(max_features=7, min_samples_split=5, n_estimators=200)</pre></div></div></div></div></div>"
      ],
      "text/plain": [
       "RandomForestRegressor(max_features=7, min_samples_split=5, n_estimators=200)"
      ]
     },
     "execution_count": 106,
     "metadata": {},
     "output_type": "execute_result"
    }
   ],
   "source": [
    "model_grid.best_estimator_"
   ]
  },
  {
   "cell_type": "markdown",
   "metadata": {},
   "source": [
    "### Preparing the pipeline"
   ]
  },
  {
   "cell_type": "code",
   "execution_count": 63,
   "metadata": {},
   "outputs": [],
   "source": [
    "data = data[['total_items', 'store_primary_category', 'subtotal', 'num_distinct_items', 'min_item_price',\n",
    "       'max_item_price', 'total_onshift_dashers', 'total_busy_dashers',\n",
    "       'total_outstanding_orders', 'estimated_order_place_duration',\n",
    "       'estimated_store_to_consumer_driving_duration', 'delivery_time',\n",
    "       'percernt_of_busy_dashers', 'time_without_preparation']]"
   ]
  },
  {
   "cell_type": "code",
   "execution_count": null,
   "metadata": {},
   "outputs": [],
   "source": [
    "data['avg_item_price'] = data.subtotal / data.total_items\n",
    "data['max_min_price_range'] = data.max_item_price - data.min_item_price\n",
    "\n",
    "data.drop(['subtotal', 'num_distinct_items', 'min_item_price', 'max_item_price', 'total_onshift_dashers', \n",
    "           'total_busy_dashers', 'estimated_store_to_consumer_driving_duration'], axis=1, inplace=True)"
   ]
  },
  {
   "cell_type": "code",
   "execution_count": 65,
   "metadata": {},
   "outputs": [],
   "source": [
    "data_without_outliers = data.copy(deep=True)\n",
    "cols_with_outliers = ['total_items',\n",
    "       'total_outstanding_orders', 'estimated_order_place_duration',\n",
    "       'delivery_time',\n",
    "       'percernt_of_busy_dashers', 'time_without_preparation']\n",
    "for col in cols_with_outliers:\n",
    "    data_without_outliers = delete_outliers(data_without_outliers, col)"
   ]
  },
  {
   "cell_type": "code",
   "execution_count": 67,
   "metadata": {},
   "outputs": [],
   "source": [
    "X, y = data_without_outliers.loc[:, [c for c in data_without_outliers.columns if c != 'delivery_time']], data_without_outliers.delivery_time"
   ]
  },
  {
   "cell_type": "code",
   "execution_count": 68,
   "metadata": {},
   "outputs": [
    {
     "data": {
      "text/html": [
       "<div>\n",
       "<style scoped>\n",
       "    .dataframe tbody tr th:only-of-type {\n",
       "        vertical-align: middle;\n",
       "    }\n",
       "\n",
       "    .dataframe tbody tr th {\n",
       "        vertical-align: top;\n",
       "    }\n",
       "\n",
       "    .dataframe thead th {\n",
       "        text-align: right;\n",
       "    }\n",
       "</style>\n",
       "<table border=\"1\" class=\"dataframe\">\n",
       "  <thead>\n",
       "    <tr style=\"text-align: right;\">\n",
       "      <th></th>\n",
       "      <th>total_items</th>\n",
       "      <th>store_primary_category</th>\n",
       "      <th>total_outstanding_orders</th>\n",
       "      <th>estimated_order_place_duration</th>\n",
       "      <th>percernt_of_busy_dashers</th>\n",
       "      <th>time_without_preparation</th>\n",
       "      <th>avg_item_price</th>\n",
       "      <th>max_min_price_range</th>\n",
       "    </tr>\n",
       "  </thead>\n",
       "  <tbody>\n",
       "    <tr>\n",
       "      <th>0</th>\n",
       "      <td>4</td>\n",
       "      <td>american</td>\n",
       "      <td>21.0</td>\n",
       "      <td>446</td>\n",
       "      <td>0.424242</td>\n",
       "      <td>1307.0</td>\n",
       "      <td>860.25</td>\n",
       "      <td>682</td>\n",
       "    </tr>\n",
       "  </tbody>\n",
       "</table>\n",
       "</div>"
      ],
      "text/plain": [
       "   total_items store_primary_category  total_outstanding_orders  \\\n",
       "0            4               american                      21.0   \n",
       "\n",
       "   estimated_order_place_duration  percernt_of_busy_dashers  \\\n",
       "0                             446                  0.424242   \n",
       "\n",
       "   time_without_preparation  avg_item_price  max_min_price_range  \n",
       "0                    1307.0          860.25                  682  "
      ]
     },
     "execution_count": 68,
     "metadata": {},
     "output_type": "execute_result"
    }
   ],
   "source": [
    "X.head(1)"
   ]
  },
  {
   "cell_type": "code",
   "execution_count": 71,
   "metadata": {},
   "outputs": [],
   "source": [
    "from sklearn.compose import ColumnTransformer\n",
    "from sklearn.impute import SimpleImputer\n",
    "from sklearn.pipeline import Pipeline, make_pipeline\n",
    "from sklearn.preprocessing import StandardScaler\n",
    "from sklearn.preprocessing import OneHotEncoder\n",
    "\n",
    "num_cols = [col for col in X.columns if col != 'store_primary_category']\n",
    "cat_cols = ['store_primary_category']\n",
    "\n",
    "num_pipe = make_pipeline(\n",
    "    SimpleImputer(strategy='median'),\n",
    "    StandardScaler()\n",
    ")\n",
    "cat_pipe = make_pipeline(\n",
    "    SimpleImputer(strategy='most_frequent'),\n",
    "    OneHotEncoder(handle_unknown='ignore', sparse=False)\n",
    ")\n",
    "preprocess = ColumnTransformer(\n",
    "    [\n",
    "        ('Numeric', num_pipe, num_cols),\n",
    "        ('Categorical', cat_pipe, cat_cols)\n",
    "    ]\n",
    ")\n",
    "\n",
    "pipeline = make_pipeline(\n",
    "    preprocess,\n",
    "    RandomForestRegressor(max_features=7, min_samples_split=5, n_estimators=200)\n",
    ")"
   ]
  },
  {
   "cell_type": "code",
   "execution_count": null,
   "metadata": {},
   "outputs": [],
   "source": [
    "from sklearn.model_selection import cross_val_score\n",
    "\n",
    "results = cross_val_score(pipeline, X, y, scoring='neg_root_mean_squared_error', cv=5)"
   ]
  },
  {
   "cell_type": "code",
   "execution_count": 172,
   "metadata": {},
   "outputs": [
    {
     "data": {
      "text/plain": [
       "860.6642693323231"
      ]
     },
     "execution_count": 172,
     "metadata": {},
     "output_type": "execute_result"
    }
   ],
   "source": [
    "-results.mean()"
   ]
  },
  {
   "cell_type": "markdown",
   "metadata": {},
   "source": [
    "So this pipeline is my final solution for this task"
   ]
  },
  {
   "cell_type": "markdown",
   "metadata": {},
   "source": [
    "### Conclusions"
   ]
  },
  {
   "cell_type": "markdown",
   "metadata": {},
   "source": [
    "- From the EDA we concluded that none of our features gives significant influence on the target variable by oneself.\n",
    "- The majority of orders occurs at the night time with the 1, 2 or 3 order protocol.\n",
    "- The dataset had a lot of outliers and missing from which I got rid of.\n",
    "- All of three models showed a good MAE, but only Decision tree and Random forest gave a good RMSE with a little better performance for the Random Forest\n",
    "- After some hyperparameter tuning model's RMSE decreased by 40. "
   ]
  }
 ],
 "metadata": {
  "kernelspec": {
   "display_name": "Python 3 (ipykernel)",
   "language": "python",
   "name": "python3"
  },
  "language_info": {
   "codemirror_mode": {
    "name": "ipython",
    "version": 3
   },
   "file_extension": ".py",
   "mimetype": "text/x-python",
   "name": "python",
   "nbconvert_exporter": "python",
   "pygments_lexer": "ipython3",
   "version": "3.9.13"
  }
 },
 "nbformat": 4,
 "nbformat_minor": 2
}
